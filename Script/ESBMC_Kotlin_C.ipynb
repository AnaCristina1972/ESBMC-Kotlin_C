{
  "cells": [
    {
      "cell_type": "code",
      "execution_count": null,
      "metadata": {
        "colab": {
          "base_uri": "https://localhost:8080/"
        },
        "id": "fquul-FL0Ly2",
        "outputId": "4697a4dd-d718-4627-9d9f-72d66ffe0a9b"
      },
      "outputs": [
        {
          "output_type": "stream",
          "name": "stdout",
          "text": [
            "rm: cannot remove '/content/output': No such file or directory\n",
            "rm: cannot remove '/content/gradle-7.2-bin.zip.1': No such file or directory\n",
            "rm: cannot remove '/content/gradle-7.2-bin.zip.2': No such file or directory\n",
            "rm: cannot remove '/content/gradle-7.2-bin.zip.3': No such file or directory\n"
          ]
        }
      ],
      "source": [
        "# Limpar ambiente antes de nova execução\n",
        "!rm -r /content/esbmc-linux\n",
        "!rm -r /content/src/\n",
        "!rm -r /content/output\n",
        "!rm -r /content/gradle\n",
        "!rm -r /content/codigoTransformadoEmC.c\n",
        "!rm -r /content/saida.txt\n",
        "!rm -r /content/gradlew\n",
        "!rm -r /content/gradlew.bat\n",
        "!rm -r /content/gradle-7.2-bin.zip\n",
        "!rm -r /content/build\n",
        "!rm -r /content/build.gradle\n",
        "!rm -r /content/gradle-7.2-bin.zip.1\n",
        "!rm -r /content/gradle-7.2-bin.zip.2\n",
        "!rm -r /content/gradle-7.2-bin.zip.3\n",
        "!rm -r /content/minha_pasta.zip"
      ]
    },
    {
      "cell_type": "code",
      "source": [
        "import os\n",
        "os.chdir(\"/content\")"
      ],
      "metadata": {
        "id": "xMDxnzN8ENMP"
      },
      "execution_count": null,
      "outputs": []
    },
    {
      "cell_type": "code",
      "source": [
        "import time\n",
        "import requests\n",
        "import json\n",
        "import os\n",
        "import shutil\n",
        "import re\n",
        "import pandas as pd\n",
        "import sys"
      ],
      "metadata": {
        "id": "HQi4XR2OFWSX"
      },
      "execution_count": null,
      "outputs": []
    },
    {
      "cell_type": "markdown",
      "source": [
        "# Código Kotlin de entrada\n",
        "### Indica que partiremos de um arquivo Kotlin que será analisado."
      ],
      "metadata": {
        "id": "fMKSXR3GY-Li"
      }
    },
    {
      "cell_type": "code",
      "source": [
        "# Diretório onde o usuário deve subir o arquivo Kotlin\n",
        "diretorio_raiz = \"/content\"\n",
        "destino_dir = \"/content/src/main/kotlin\"\n",
        "novo_nome = \"main.kt\"\n",
        "\n",
        "# Procura um arquivo .kt na raiz (qualquer nome)\n",
        "arquivo_kt = next((f for f in os.listdir(diretorio_raiz) if f.endswith(\".kt\")), None)\n",
        "\n",
        "if arquivo_kt:\n",
        "    caminho_origem = os.path.join(diretorio_raiz, arquivo_kt)\n",
        "    os.makedirs(destino_dir, exist_ok=True)\n",
        "    caminho_destino = os.path.join(destino_dir, novo_nome)\n",
        "\n",
        "    # Move e renomeia\n",
        "    shutil.move(caminho_origem, caminho_destino)\n",
        "    print(f\"{arquivo_kt} foi renomeado e movido para: {caminho_destino}\")\n",
        "else:\n",
        "    print(\"Nenhum arquivo .kt encontrado na raiz.\")\n"
      ],
      "metadata": {
        "colab": {
          "base_uri": "https://localhost:8080/"
        },
        "id": "1Hl3H2BgODdQ",
        "outputId": "c79bedd9-1d0e-47b2-a8e5-979713baef34"
      },
      "execution_count": null,
      "outputs": [
        {
          "output_type": "stream",
          "name": "stdout",
          "text": [
            "main.kt foi renomeado e movido para: /content/src/main/kotlin/main.kt\n"
          ]
        }
      ]
    },
    {
      "cell_type": "code",
      "execution_count": null,
      "metadata": {
        "id": "fgBitWqZhDl6"
      },
      "outputs": [],
      "source": [
        "arquivo = open('/content/src/main/kotlin/main.kt','r')\n",
        "leitura = arquivo.read()\n",
        "CodigoKotlin = leitura"
      ]
    },
    {
      "cell_type": "markdown",
      "source": [
        "# Instalar dependências Python (OpenAI) e Requests\n",
        "### Instala bibliotecas usadas na etapa de geração/auxílio por LLM.\n",
        "### Suporte a chamadas HTTP/integrações necessárias."
      ],
      "metadata": {
        "id": "Rxwu0OxYZXKg"
      }
    },
    {
      "cell_type": "code",
      "execution_count": null,
      "metadata": {
        "id": "6_bf4I1Wgq_M"
      },
      "outputs": [],
      "source": [
        "!pip install openai --quiet"
      ]
    },
    {
      "cell_type": "code",
      "execution_count": null,
      "metadata": {
        "id": "6MMihhKvgsFU"
      },
      "outputs": [],
      "source": [
        "API_KEY = \"\""
      ]
    },
    {
      "cell_type": "code",
      "execution_count": null,
      "metadata": {
        "id": "G8UBZ0WfgsBq"
      },
      "outputs": [],
      "source": [
        "!pip install requests --quiet"
      ]
    },
    {
      "cell_type": "code",
      "execution_count": null,
      "metadata": {
        "id": "RU4yJB7zg7tG"
      },
      "outputs": [],
      "source": [
        "headers = {\"Authorization\": f\"Bearer {API_KEY}\", 'Content-Type': 'Application/json'}"
      ]
    },
    {
      "cell_type": "code",
      "execution_count": null,
      "metadata": {
        "id": "klgrHkoWg7qH"
      },
      "outputs": [],
      "source": [
        "idModelo = \"gpt-3.5-turbo\""
      ]
    },
    {
      "cell_type": "code",
      "execution_count": null,
      "metadata": {
        "id": "SORCCwvbg7mk"
      },
      "outputs": [],
      "source": [
        "link = \"https://api.openai.com/v1/chat/completions\""
      ]
    },
    {
      "cell_type": "code",
      "execution_count": null,
      "metadata": {
        "id": "9sU2vpUhi6J3"
      },
      "outputs": [],
      "source": [
        "# Inicia a contagem do tempo\n",
        "start_time = time.time()"
      ]
    },
    {
      "cell_type": "code",
      "execution_count": null,
      "metadata": {
        "colab": {
          "base_uri": "https://localhost:8080/"
        },
        "id": "1BllSwb0K7tA",
        "outputId": "cdfd2ac3-d3cf-41d7-993c-f7fd2b36049b"
      },
      "outputs": [
        {
          "output_type": "stream",
          "name": "stdout",
          "text": [
            "import java.util.Random;\n",
            "\n",
            "class Foo(var member: Int)\n",
            "{\n",
            "    fun decrement(N: Int): Int\n",
            "    {\n",
            "        member = member - N\n",
            "        return member\n",
            "    }\n",
            "}\n",
            "\n",
            "fun main(){\n",
            "    var x = Random().nextInt()\n",
            "    val obj = Foo(x)\n",
            "    var y = Random().nextInt()\n",
            "    if (y > 0) obj.decrement(y)\n",
            "}\n",
            "\n"
          ]
        }
      ],
      "source": [
        "print(CodigoKotlin)"
      ]
    },
    {
      "cell_type": "code",
      "source": [
        "def limpar_codigo(markdown_code: str) -> str:\n",
        "    # Remove as linhas com ``` e espaços extras no início/fim\n",
        "    codigo_limpo = re.sub(r\"^```.*?$\", \"\", markdown_code, flags=re.MULTILINE).strip()\n",
        "    return codigo_limpo"
      ],
      "metadata": {
        "id": "T9Tt5PgkEUY-"
      },
      "execution_count": null,
      "outputs": []
    },
    {
      "cell_type": "markdown",
      "source": [
        "# Converter Kotlin em C para verificação\n",
        "### O código Kotlin será transformado em C para o ESBMC."
      ],
      "metadata": {
        "id": "GlNekftDZ8jl"
      }
    },
    {
      "cell_type": "code",
      "execution_count": null,
      "metadata": {
        "id": "Lhot7QMXhDin"
      },
      "outputs": [],
      "source": [
        "body = {\n",
        "    \"model\": idModelo,\n",
        "    \"messages\": [{\"role\": \"user\", \"content\": f'''\n",
        "\n",
        "    Como um profissional de programação competente, com mais de 10 anos de experiencia e especialista em converter codigos de linguagem Kotlim para linguagem C. Um profissional\n",
        "    conhecido pela uso de clean code, converta  o código Kotlin para C, respeitando as seguintes diretrizes técnicas e de engenharia de software, siga as seguintes etapas:\n",
        "\n",
        "         TAREFAS:\n",
        "            1. Identificação da Linguagem de Origem\n",
        "            - O sistema deve identificar automaticamente que o código de entrada está escrito em Kotlin.\n",
        "\n",
        "            2. Análise de Sintaxe e Semântica\n",
        "            O conversor deve realizar uma análise detalhada do código Kotlin, contemplando os seguintes elementos:\n",
        "            - Estruturas de Controle: Mapeamento correto de blocos `if`, `else`, `for`, `while`, e outras estruturas de fluxo.\n",
        "            - Funções e Métodos: Extração precisa de assinaturas de funções, retornos e parâmetros.\n",
        "            - Tipos de Dados: Analisar e mapear tipos primitivos como `Int`, `String`, `Boolean`, `Float`, e outros.\n",
        "            - Declaração de Variáveis: Identificação de variáveis com seus tipos explícitos ou inferidos.\n",
        "            - Importações e Bibliotecas: Gerenciar dependências externas e funções importadas.\n",
        "\n",
        "            3. Conversão para Código C\n",
        "            - Tipos de Dados: Converter tipos Kotlin para seus equivalentes em C (`int`, `float`, `char[]`, `bool`, etc.).\n",
        "            - Estruturas de Controle: Traduzir blocos de controle da linguagem Kotlin para suas formas equivalentes em C (`if`, `else`, `for`, `while`, `switch`, etc.).\n",
        "            - Funções: Converter funções Kotlin para a sintaxe C, garantindo assinaturas de função corretas e retorno de valores apropriados.\n",
        "            - Operadores**: Substituir operadores Kotlin por seus correspondentes em C (`==`, `!=`, `&&`, `||`, etc.).\n",
        "\n",
        "            4. Gerenciamento de Bibliotecas\n",
        "            - Incluir automaticamente as bibliotecas padrão do C necessárias para a funcionalidade traduzida:\n",
        "              - `#include <stdio.h>`: Para entrada e saída padrão.\n",
        "              - Outras bibliotecas poderão ser incluídas conforme necessário.\n",
        "\n",
        "            5. Conversão de Verificações e Assertivas\n",
        "            - Toda chamada a `assert(...)` em Kotlin deve ser convertida diretamente em `assert(...)` em C.\n",
        "            - Sempre incluir `#include <assert.h>` se houver pelo menos um `assert` no código. Mas nunca incluir asserts adicionais.\n",
        "            - Nunca substituir `assert` por `printf`. A verificação deve ser lógica e falhar em tempo de execução se a condição não for satisfeita.\n",
        "            - Apenas converta chamadas explícitas a `assert(...)` no código Kotlin original. A conversão deve ser equivalente.\n",
        "\n",
        "\n",
        "            6. Geração de Código em C\n",
        "            - O código gerado deve seguir padrões de qualidade: ser formatado corretamente, utilizando boas práticas de programação em C.\n",
        "            - Comentários: Incluir comentários explicativos para pontos críticos da conversão, destacando trechos onde ajustes manuais podem ser necessários.\n",
        "            - Sempre priorizar a geração de  código simples e legível (clean code), evitando complexidades desnecessárias.\n",
        "\n",
        "\n",
        "          REGRAS:\n",
        "            1. A conversão deve ser direta e funcional.\n",
        "            2. Não inclua nenhum comentário, explicação, ou comunicação com o usuário.\n",
        "            3. Retorne apenas o código em C, pronto para ser executado.\n",
        "          '''\n",
        "          \"\"\"\n",
        "            7. Exemplo de Conversão\n",
        "            Código em Kotlin:\n",
        "\n",
        "            fun soma(a: Int, b: Int): Int {\n",
        "                return a + b\n",
        "            }\n",
        "\n",
        "            fun main() {\n",
        "                val resultado = soma(5, 3)\n",
        "                println(\"Resultado: $resultado\")\n",
        "            }\n",
        "\n",
        "            Código equivalente em C:\n",
        "\n",
        "            #include <stdio.h>\n",
        "\n",
        "            int soma(int a, int b) {\n",
        "                return a + b;\n",
        "            }\n",
        "\n",
        "            int main() {\n",
        "                int resultado = soma(5, 3);\n",
        "                printf(\"Resultado: %d\\n\", resultado);\n",
        "                return 0;\n",
        "            }\n",
        "\n",
        "            Nota: O código gerado deverá ser funcional e facilmente ajustável, permitindo que desenvolvedores possam\n",
        "              refinar ou expandir conforme necessário.\n",
        "              Faça converta esse código: \"\"\" f''' {leitura}'''}]}"
      ]
    },
    {
      "cell_type": "code",
      "execution_count": null,
      "metadata": {
        "id": "dqVuqJyPhDfd"
      },
      "outputs": [],
      "source": [
        "body = json.dumps(body)"
      ]
    },
    {
      "cell_type": "code",
      "execution_count": null,
      "metadata": {
        "id": "0XDxZ4O2g7jJ"
      },
      "outputs": [],
      "source": [
        "requisicao = requests.post(link, headers=headers, data=body)"
      ]
    },
    {
      "cell_type": "code",
      "execution_count": null,
      "metadata": {
        "colab": {
          "base_uri": "https://localhost:8080/"
        },
        "id": "5K5xOTR9i9FF",
        "outputId": "2bd63e32-4f39-4be1-af50-9b3609e60ed7"
      },
      "outputs": [
        {
          "output_type": "stream",
          "name": "stdout",
          "text": [
            "<Response [200]>\n",
            "{\n",
            "  \"id\": \"chatcmpl-C2svTo45anl1168IhHIWWY4SIdPY9\",\n",
            "  \"object\": \"chat.completion\",\n",
            "  \"created\": 1754803827,\n",
            "  \"model\": \"gpt-3.5-turbo-0125\",\n",
            "  \"choices\": [\n",
            "    {\n",
            "      \"index\": 0,\n",
            "      \"message\": {\n",
            "        \"role\": \"assistant\",\n",
            "        \"content\": \"```c\\n#include <stdio.h>\\n#include <stdlib.h>\\n\\ntypedef struct {\\n    int member;\\n} Foo;\\n\\nint decrement(Foo* foo, int N) {\\n    foo->member = foo->member - N;\\n    return foo->member;\\n}\\n\\nint main() {\\n    srand(time(0));\\n    int x = rand();\\n    Foo obj;\\n    obj.member = x;\\n    int y = rand();\\n    if (y > 0) {\\n        decrement(&obj, y);\\n    }\\n    return 0;\\n}\\n```\",\n",
            "        \"refusal\": null,\n",
            "        \"annotations\": []\n",
            "      },\n",
            "      \"logprobs\": null,\n",
            "      \"finish_reason\": \"stop\"\n",
            "    }\n",
            "  ],\n",
            "  \"usage\": {\n",
            "    \"prompt_tokens\": 1110,\n",
            "    \"completion_tokens\": 109,\n",
            "    \"total_tokens\": 1219,\n",
            "    \"prompt_tokens_details\": {\n",
            "      \"cached_tokens\": 0,\n",
            "      \"audio_tokens\": 0\n",
            "    },\n",
            "    \"completion_tokens_details\": {\n",
            "      \"reasoning_tokens\": 0,\n",
            "      \"audio_tokens\": 0,\n",
            "      \"accepted_prediction_tokens\": 0,\n",
            "      \"rejected_prediction_tokens\": 0\n",
            "    }\n",
            "  },\n",
            "  \"service_tier\": \"default\",\n",
            "  \"system_fingerprint\": null\n",
            "}\n",
            "\n"
          ]
        }
      ],
      "source": [
        "print(requisicao)\n",
        "print(requisicao.text)"
      ]
    },
    {
      "cell_type": "code",
      "execution_count": null,
      "metadata": {
        "id": "HJt98bR_i9Br"
      },
      "outputs": [],
      "source": [
        "resposta = requisicao.json()"
      ]
    },
    {
      "cell_type": "code",
      "execution_count": null,
      "metadata": {
        "id": "d7FVNVzJi8-v"
      },
      "outputs": [],
      "source": [
        "mensagem = resposta[\"choices\"][0][\"message\"][\"content\"]"
      ]
    },
    {
      "cell_type": "code",
      "source": [
        "# Aplica a limpeza antes de salvar\n",
        "codigo_limpo = limpar_codigo(mensagem)"
      ],
      "metadata": {
        "id": "mfzOgjh3EZv_"
      },
      "execution_count": null,
      "outputs": []
    },
    {
      "cell_type": "code",
      "execution_count": null,
      "metadata": {
        "colab": {
          "base_uri": "https://localhost:8080/"
        },
        "id": "tKD9hF0jjFR5",
        "outputId": "65e4ec66-f6dd-4c27-9227-b03002cca44c"
      },
      "outputs": [
        {
          "output_type": "stream",
          "name": "stdout",
          "text": [
            "#include <stdio.h>\n",
            "#include <stdlib.h>\n",
            "\n",
            "typedef struct {\n",
            "    int member;\n",
            "} Foo;\n",
            "\n",
            "int decrement(Foo* foo, int N) {\n",
            "    foo->member = foo->member - N;\n",
            "    return foo->member;\n",
            "}\n",
            "\n",
            "int main() {\n",
            "    srand(time(0));\n",
            "    int x = rand();\n",
            "    Foo obj;\n",
            "    obj.member = x;\n",
            "    int y = rand();\n",
            "    if (y > 0) {\n",
            "        decrement(&obj, y);\n",
            "    }\n",
            "    return 0;\n",
            "}\n"
          ]
        }
      ],
      "source": [
        "print(codigo_limpo)"
      ]
    },
    {
      "cell_type": "code",
      "source": [
        "if codigo_limpo.strip().startswith(\"'''\") or codigo_limpo.strip().startswith(\"```\"):\n",
        "    sys.exit(\"O código gerado está dentro de um comentário. Remova o marcador '''kotlin ou ```kotlin ou execute novamente a partir da célula anterior.\")\n",
        "else:\n",
        "    print(\"✅ O último código gerado não contém marcadores de linguagem.\")"
      ],
      "metadata": {
        "colab": {
          "base_uri": "https://localhost:8080/"
        },
        "id": "O_-APSzNEiwv",
        "outputId": "76f4b402-8984-4e00-fd64-293c59669495"
      },
      "execution_count": null,
      "outputs": [
        {
          "output_type": "stream",
          "name": "stdout",
          "text": [
            "✅ O último código gerado não contém marcadores de linguagem.\n"
          ]
        }
      ]
    },
    {
      "cell_type": "code",
      "execution_count": null,
      "metadata": {
        "id": "oR6AAlUvjFO3"
      },
      "outputs": [],
      "source": [
        "with open(f'/content/codigoTransformadoEmC.c','w') as file:\n",
        "    file.writelines(codigo_limpo)"
      ]
    },
    {
      "cell_type": "code",
      "execution_count": null,
      "metadata": {
        "id": "tECgopPgQvOa"
      },
      "outputs": [],
      "source": [
        "# Espera por 5 segundos\n",
        "time.sleep(5)"
      ]
    },
    {
      "cell_type": "markdown",
      "metadata": {
        "id": "cotaQftij3Ns"
      },
      "source": [
        "# Baixar e extrair ESBMC pré-compilado (Linux)\n",
        "### Faz download do binário do ESBMC e descompacta o pacote para o diretório de trabalho."
      ]
    },
    {
      "cell_type": "code",
      "execution_count": null,
      "metadata": {
        "id": "AqI-yopETD4U"
      },
      "outputs": [],
      "source": [
        "!wget -O minha_pasta.zip \"https://github.com/esbmc/esbmc/releases/download/v7.5/esbmc-linux.zip\" --quiet"
      ]
    },
    {
      "cell_type": "code",
      "execution_count": null,
      "metadata": {
        "id": "9dk5HdNsTMyU",
        "colab": {
          "base_uri": "https://localhost:8080/"
        },
        "outputId": "c16fd021-d5a8-4690-e4e7-b5ea09ebc8b7"
      },
      "outputs": [
        {
          "output_type": "stream",
          "name": "stdout",
          "text": [
            "Archive:  minha_pasta.zip\n",
            "   creating: /content/esbmc-linux/bin/\n",
            "   creating: /content/esbmc-linux/include/\n",
            "   creating: /content/esbmc-linux/lib/\n",
            "   creating: /content/esbmc-linux/license/\n",
            "  inflating: /content/esbmc-linux/README  \n",
            "  inflating: /content/esbmc-linux/release-notes.txt  \n",
            "   creating: /content/esbmc-linux/resources/\n",
            "  inflating: /content/esbmc-linux/bin/esbmc  \n",
            "   creating: /content/esbmc-linux/include/fmt/\n",
            "  inflating: /content/esbmc-linux/include/fmt/args.h  \n",
            "  inflating: /content/esbmc-linux/include/fmt/chrono.h  \n",
            "  inflating: /content/esbmc-linux/include/fmt/color.h  \n",
            "  inflating: /content/esbmc-linux/include/fmt/compile.h  \n",
            "  inflating: /content/esbmc-linux/include/fmt/core.h  \n",
            "  inflating: /content/esbmc-linux/include/fmt/format-inl.h  \n",
            "  inflating: /content/esbmc-linux/include/fmt/format.h  \n",
            "  inflating: /content/esbmc-linux/include/fmt/os.h  \n",
            "  inflating: /content/esbmc-linux/include/fmt/ostream.h  \n",
            "  inflating: /content/esbmc-linux/include/fmt/printf.h  \n",
            "  inflating: /content/esbmc-linux/include/fmt/ranges.h  \n",
            "  inflating: /content/esbmc-linux/include/fmt/std.h  \n",
            "  inflating: /content/esbmc-linux/include/fmt/xchar.h  \n",
            "   creating: /content/esbmc-linux/lib/cmake/\n",
            "  inflating: /content/esbmc-linux/lib/libfmt.a  \n",
            "   creating: /content/esbmc-linux/lib/pkgconfig/\n",
            "   creating: /content/esbmc-linux/lib/cmake/fmt/\n",
            "  inflating: /content/esbmc-linux/lib/cmake/fmt/fmt-config-version.cmake  \n",
            "  inflating: /content/esbmc-linux/lib/cmake/fmt/fmt-config.cmake  \n",
            "  inflating: /content/esbmc-linux/lib/cmake/fmt/fmt-targets-relwithdebinfo.cmake  \n",
            "  inflating: /content/esbmc-linux/lib/cmake/fmt/fmt-targets.cmake  \n",
            "  inflating: /content/esbmc-linux/lib/pkgconfig/fmt.pc  \n",
            "  inflating: /content/esbmc-linux/license/BOOLECTOR_LICENSE.txt  \n",
            "  inflating: /content/esbmc-linux/license/BOOST_LICENSE.txt  \n",
            "  inflating: /content/esbmc-linux/license/COPYING  \n",
            "  inflating: /content/esbmc-linux/license/Z3_LICENSE.txt  \n",
            "  inflating: /content/esbmc-linux/resources/astgen.py  \n"
          ]
        }
      ],
      "source": [
        "!unzip minha_pasta.zip -d /content/esbmc-linux"
      ]
    },
    {
      "cell_type": "code",
      "execution_count": null,
      "metadata": {
        "id": "fck8YszXTgG6",
        "colab": {
          "base_uri": "https://localhost:8080/"
        },
        "outputId": "ca70abee-4422-46b8-f5bb-5bc3515e27d9"
      },
      "outputs": [
        {
          "output_type": "stream",
          "name": "stdout",
          "text": [
            "/content/esbmc-linux/bin\n"
          ]
        }
      ],
      "source": [
        "%cd /content/esbmc-linux/bin"
      ]
    },
    {
      "cell_type": "code",
      "execution_count": null,
      "metadata": {
        "id": "ytS_xgPHUDeC"
      },
      "outputs": [],
      "source": [
        "!chmod +x esbmc"
      ]
    },
    {
      "cell_type": "markdown",
      "source": [
        "# Identificar claims com ESBMC\n",
        "## Introduz a fase de extração/listagem de propriedades verificadas."
      ],
      "metadata": {
        "id": "KGGlsboibCmx"
      }
    },
    {
      "cell_type": "code",
      "execution_count": null,
      "metadata": {
        "id": "90sHQFitUF-q",
        "colab": {
          "base_uri": "https://localhost:8080/"
        },
        "outputId": "4327abba-ac37-4dab-9f25-fff0f36170e3"
      },
      "outputs": [
        {
          "output_type": "stream",
          "name": "stdout",
          "text": [
            "ESBMC version 7.5.0 64-bit x86_64 linux\n",
            "Target: 64-bit little-endian x86_64-unknown-linux with esbmclibc\n",
            "Parsing /content/codigoTransformadoEmC.c\n",
            "\u001b[1m/content/codigoTransformadoEmC.c:14:11: \u001b[0m\u001b[0;1;35mwarning: \u001b[0m\u001b[1mimplicit declaration of function 'time' is invalid in C99 [-Wimplicit-function-declaration]\u001b[0m\n",
            "    srand(time(0));\n",
            "\u001b[0;1;32m          ^\n",
            "\u001b[0mConverting\n",
            "Generating GOTO Program\n",
            "GOTO program creation time: 0.269s\n",
            "GOTO program processing time: 0.003s\n",
            "Claim 1:\n",
            "  file io.c line 32 column 3 function putchar\n",
            "  arithmetic overflow on neg\n",
            "  (_Bool)((signed int)error) => !overflow(\"unary-\", 1)\n",
            "\n",
            "Claim 2:\n",
            "  file io.c line 123 column 3 function fgets\n",
            "  the pointer to a file object must be a valid argument\n",
            "  (_Bool)(stream == stdin || stream != 0)\n",
            "\n",
            "Claim 3:\n",
            "  file io.c line 133 column 3 function fgets\n",
            "  arithmetic overflow on sub\n",
            "  !overflow(\"-\", size, 1)\n",
            "\n",
            "Claim 4:\n",
            "  file io.c line 147 column 10 function fgets\n",
            "  arithmetic overflow on neg\n",
            "  !overflow(\"unary-\", 1)\n",
            "\n",
            "Claim 5:\n",
            "  file io.c line 133 column 32 function fgets\n",
            "  arithmetic overflow on add\n",
            "  !overflow(\"+\", i, 1)\n",
            "\n",
            "Claim 6:\n",
            "  file io.c line 162 column 5 function fgets\n",
            "  arithmetic overflow on sub\n",
            "  !overflow(\"-\", size, 1)\n",
            "\n",
            "Claim 7:\n",
            "  file io.c line 165 column 11 function fgets\n",
            "  arithmetic overflow on add\n",
            "  !overflow(\"+\", i, 1)\n",
            "\n",
            "Claim 8:\n",
            "  file io.c line 171 column 3 function fgets\n",
            "  arithmetic overflow on sub\n",
            "  !overflow(\"-\", size, 1)\n",
            "\n",
            "Claim 9:\n",
            "  file io.c line 42 column 5 function puts\n",
            "  arithmetic overflow on neg\n",
            "  !overflow(\"unary-\", 1)\n",
            "\n",
            "Claim 10:\n",
            "  file stdlib.c line 197 column 1 function atoi\n",
            "  array bounds violated: array `ATOI_MAP' lower bound\n",
            "  (signed long int)((unsigned char)(*s)) >= 0\n",
            "\n",
            "Claim 11:\n",
            "  file stdlib.c line 197 column 1 function atoi\n",
            "  array bounds violated: array `ATOI_MAP' upper bound\n",
            "  (signed long int)((unsigned char)(*s)) < 256\n",
            "\n",
            "Claim 12:\n",
            "  file stdlib.c line 197 column 1 function atoi\n",
            "  arithmetic overflow on sub\n",
            "  !overflow(\"-\", 2147483647, (signed int)c)\n",
            "\n",
            "Claim 13:\n",
            "  file stdlib.c line 197 column 1 function atoi\n",
            "  arithmetic overflow on div\n",
            "  !overflow(\"/\", 2147483647 - (signed int)c, 10)\n",
            "\n",
            "Claim 14:\n",
            "  file stdlib.c line 197 column 1 function atoi\n",
            "  arithmetic overflow on neg\n",
            "  (_Bool)neg => !overflow(\"unary-\", 2147483647)\n",
            "\n",
            "Claim 15:\n",
            "  file stdlib.c line 197 column 1 function atoi\n",
            "  arithmetic overflow on sub\n",
            "  (_Bool)neg => !overflow(\"-\", -2147483647, 1)\n",
            "\n",
            "Claim 16:\n",
            "  file stdlib.c line 198 column 1 function atol\n",
            "  array bounds violated: array `ATOI_MAP' lower bound\n",
            "  (signed long int)((unsigned char)(*s)) >= 0\n",
            "\n",
            "Claim 17:\n",
            "  file stdlib.c line 198 column 1 function atol\n",
            "  array bounds violated: array `ATOI_MAP' upper bound\n",
            "  (signed long int)((unsigned char)(*s)) < 256\n",
            "\n",
            "Claim 18:\n",
            "  file stdlib.c line 198 column 1 function atol\n",
            "  arithmetic overflow on sub\n",
            "  !overflow(\"-\", 9223372036854775807, (signed long int)c)\n",
            "\n",
            "Claim 19:\n",
            "  file stdlib.c line 198 column 1 function atol\n",
            "  arithmetic overflow on div\n",
            "  !overflow(\"/\", 9223372036854775807 - (signed long int)c, 10)\n",
            "\n",
            "Claim 20:\n",
            "  file stdlib.c line 198 column 1 function atol\n",
            "  arithmetic overflow on neg\n",
            "  (_Bool)neg => !overflow(\"unary-\", 9223372036854775807)\n",
            "\n",
            "Claim 21:\n",
            "  file stdlib.c line 198 column 1 function atol\n",
            "  arithmetic overflow on sub\n",
            "  (_Bool)neg => !overflow(\"-\", -9223372036854775807, 1)\n",
            "\n",
            "Claim 22:\n",
            "  file stdlib.c line 199 column 1 function atoll\n",
            "  array bounds violated: array `ATOI_MAP' lower bound\n",
            "  (signed long int)((unsigned char)(*s)) >= 0\n",
            "\n",
            "Claim 23:\n",
            "  file stdlib.c line 199 column 1 function atoll\n",
            "  array bounds violated: array `ATOI_MAP' upper bound\n",
            "  (signed long int)((unsigned char)(*s)) < 256\n",
            "\n",
            "Claim 24:\n",
            "  file stdlib.c line 199 column 1 function atoll\n",
            "  arithmetic overflow on sub\n",
            "  !overflow(\"-\", 9223372036854775807, (signed long int)c)\n",
            "\n",
            "Claim 25:\n",
            "  file stdlib.c line 199 column 1 function atoll\n",
            "  arithmetic overflow on div\n",
            "  !overflow(\"/\", 9223372036854775807 - (signed long int)c, 10)\n",
            "\n",
            "Claim 26:\n",
            "  file stdlib.c line 199 column 1 function atoll\n",
            "  arithmetic overflow on neg\n",
            "  (_Bool)neg => !overflow(\"unary-\", 9223372036854775807)\n",
            "\n",
            "Claim 27:\n",
            "  file stdlib.c line 199 column 1 function atoll\n",
            "  arithmetic overflow on sub\n",
            "  (_Bool)neg => !overflow(\"-\", -9223372036854775807, 1)\n",
            "\n",
            "Claim 28:\n",
            "  file stdlib.c line 112 column 5 function strtol\n",
            "  arithmetic overflow on neg\n",
            "  !overflow(\"unary-\", 1)\n",
            "\n",
            "Claim 29:\n",
            "  file stdlib.c line 141 column 5 function strtol\n",
            "  arithmetic overflow on sub\n",
            "  !overflow(\"-\", return_value$_tolower$6, 48)\n",
            "\n",
            "Claim 30:\n",
            "  file stdlib.c line 143 column 7 function strtol\n",
            "  arithmetic overflow on sub\n",
            "  !overflow(\"-\", digit, 7)\n",
            "\n",
            "Claim 31:\n",
            "  file stdlib.c line 144 column 5 function strtol\n",
            "  arithmetic overflow on sub\n",
            "  !overflow(\"-\", 9223372036854775807, (signed long int)digit)\n",
            "\n",
            "Claim 32:\n",
            "  file stdlib.c line 144 column 5 function strtol\n",
            "  division by zero\n",
            "  (signed long int)base != 0\n",
            "\n",
            "Claim 33:\n",
            "  file stdlib.c line 144 column 5 function strtol\n",
            "  arithmetic overflow on div\n",
            "  !overflow(\"/\", 9223372036854775807 - (signed long int)digit, (signed long int)base)\n",
            "\n",
            "Claim 34:\n",
            "  file stdlib.c line 145 column 7 function strtol\n",
            "  arithmetic overflow on neg\n",
            "  !overflow(\"unary-\", 1)\n",
            "\n",
            "Claim 35:\n",
            "  file stdlib.c line 145 column 7 function strtol\n",
            "  arithmetic overflow on neg\n",
            "  sign == -1 => !overflow(\"unary-\", 9223372036854775807)\n",
            "\n",
            "Claim 36:\n",
            "  file stdlib.c line 145 column 7 function strtol\n",
            "  arithmetic overflow on sub\n",
            "  sign == -1 => !overflow(\"-\", -9223372036854775807, 1)\n",
            "\n",
            "Claim 37:\n",
            "  file stdlib.c line 146 column 5 function strtol\n",
            "  arithmetic overflow on mul\n",
            "  !overflow(\"*\", result, (signed long int)base)\n",
            "\n",
            "Claim 38:\n",
            "  file stdlib.c line 146 column 5 function strtol\n",
            "  arithmetic overflow on add\n",
            "  !overflow(\"+\", result * (signed long int)base, (signed long int)digit)\n",
            "\n",
            "Claim 39:\n",
            "  file stdlib.c line 154 column 3 function strtol\n",
            "  arithmetic overflow on mul\n",
            "  !overflow(\"*\", (signed long int)sign, result)\n",
            "\n",
            "Claim 40:\n",
            "  file stdlib.c line 51 column 5 function atexit\n",
            "  arithmetic overflow on neg\n",
            "  !overflow(\"unary-\", 1)\n",
            "\n",
            "Claim 41:\n",
            "  file codigoTransformadoEmC.c line 9 column 5 function decrement\n",
            "  arithmetic overflow on sub\n",
            "  !overflow(\"-\", foo->member, N)\n",
            "\n",
            "Claim 42:\n",
            "  file ctype.c line 88 column 3 function tolower\n",
            "  arithmetic overflow on sub\n",
            "  c >= 65 && c <= 90 => !overflow(\"-\", 97, 65)\n",
            "\n",
            "Claim 43:\n",
            "  file ctype.c line 88 column 3 function tolower\n",
            "  arithmetic overflow on add\n",
            "  c >= 65 && c <= 90 => !overflow(\"+\", c, 97 - 65)\n",
            "\n"
          ]
        }
      ],
      "source": [
        "!./esbmc --overflow-check /content/codigoTransformadoEmC.c --show-claims"
      ]
    },
    {
      "cell_type": "code",
      "execution_count": null,
      "metadata": {
        "id": "Zw5cLJvIYjcq"
      },
      "outputs": [],
      "source": [
        "claims = !./esbmc /content/codigoTransformadoEmC.c --show-claims"
      ]
    },
    {
      "cell_type": "code",
      "execution_count": null,
      "metadata": {
        "id": "ZQD-tOV_Ym80",
        "colab": {
          "base_uri": "https://localhost:8080/"
        },
        "outputId": "2b8a327c-78d7-467f-f92f-2e743fb5725d"
      },
      "outputs": [
        {
          "output_type": "execute_result",
          "data": {
            "text/plain": [
              "['ESBMC version 7.5.0 64-bit x86_64 linux',\n",
              " 'Target: 64-bit little-endian x86_64-unknown-linux with esbmclibc',\n",
              " 'Parsing /content/codigoTransformadoEmC.c',\n",
              " \"\\x1b[1m/content/codigoTransformadoEmC.c:14:11: \\x1b[0m\\x1b[0;1;35mwarning: \\x1b[0m\\x1b[1mimplicit declaration of function 'time' is invalid in C99 [-Wimplicit-function-declaration]\\x1b[0m\",\n",
              " '    srand(time(0));',\n",
              " '\\x1b[0;1;32m          ^',\n",
              " '\\x1b[0mConverting',\n",
              " 'Generating GOTO Program',\n",
              " 'GOTO program creation time: 0.215s',\n",
              " 'GOTO program processing time: 0.002s',\n",
              " 'Claim 1:',\n",
              " '  file io.c line 123 column 3 function fgets',\n",
              " '  the pointer to a file object must be a valid argument',\n",
              " '  (_Bool)(stream == stdin || stream != 0)',\n",
              " '',\n",
              " 'Claim 2:',\n",
              " '  file stdlib.c line 197 column 1 function atoi',\n",
              " \"  array bounds violated: array `ATOI_MAP' lower bound\",\n",
              " '  (signed long int)((unsigned char)(*s)) >= 0',\n",
              " '',\n",
              " 'Claim 3:',\n",
              " '  file stdlib.c line 197 column 1 function atoi',\n",
              " \"  array bounds violated: array `ATOI_MAP' upper bound\",\n",
              " '  (signed long int)((unsigned char)(*s)) < 256',\n",
              " '',\n",
              " 'Claim 4:',\n",
              " '  file stdlib.c line 198 column 1 function atol',\n",
              " \"  array bounds violated: array `ATOI_MAP' lower bound\",\n",
              " '  (signed long int)((unsigned char)(*s)) >= 0',\n",
              " '',\n",
              " 'Claim 5:',\n",
              " '  file stdlib.c line 198 column 1 function atol',\n",
              " \"  array bounds violated: array `ATOI_MAP' upper bound\",\n",
              " '  (signed long int)((unsigned char)(*s)) < 256',\n",
              " '',\n",
              " 'Claim 6:',\n",
              " '  file stdlib.c line 199 column 1 function atoll',\n",
              " \"  array bounds violated: array `ATOI_MAP' lower bound\",\n",
              " '  (signed long int)((unsigned char)(*s)) >= 0',\n",
              " '',\n",
              " 'Claim 7:',\n",
              " '  file stdlib.c line 199 column 1 function atoll',\n",
              " \"  array bounds violated: array `ATOI_MAP' upper bound\",\n",
              " '  (signed long int)((unsigned char)(*s)) < 256',\n",
              " '',\n",
              " 'Claim 8:',\n",
              " '  file stdlib.c line 144 column 5 function strtol',\n",
              " '  division by zero',\n",
              " '  (signed long int)base != 0',\n",
              " '']"
            ]
          },
          "metadata": {},
          "execution_count": 32
        }
      ],
      "source": [
        "claims"
      ]
    },
    {
      "cell_type": "markdown",
      "source": [
        "## Definir arquivo de saída das claims\n",
        "###Especifica onde salvar a listagem bruta das claims (texto)."
      ],
      "metadata": {
        "id": "bjbUn18EbYq3"
      }
    },
    {
      "cell_type": "code",
      "execution_count": null,
      "metadata": {
        "id": "arVgSnO4ZHSO"
      },
      "outputs": [],
      "source": [
        "# Caminho para o arquivo de saída\n",
        "caminho_do_arquivo = \"/content/saida.txt\"\n",
        "\n",
        "# Abre o arquivo no modo de escrita ('w') e escreve cada item da lista em uma nova linha\n",
        "with open(caminho_do_arquivo, \"w\") as arquivo:\n",
        "    for item in claims:\n",
        "        arquivo.write(item + \"\\n\")"
      ]
    },
    {
      "cell_type": "markdown",
      "metadata": {
        "id": "MAR_yz-FZqmz"
      },
      "source": [
        "## Extrair número da claim, linha e expressão\n",
        "### Faz o parsing do texto e organiza os campos relevantes."
      ]
    },
    {
      "cell_type": "code",
      "execution_count": null,
      "metadata": {
        "id": "q8ZJiNxBZgFv"
      },
      "outputs": [],
      "source": [
        "arquivo = open('/content/saida.txt','r')\n",
        "leitura = arquivo.read()"
      ]
    },
    {
      "cell_type": "code",
      "execution_count": null,
      "metadata": {
        "id": "Df2XO1g1cD61",
        "colab": {
          "base_uri": "https://localhost:8080/",
          "height": 145
        },
        "outputId": "a6e9cfd9-524d-4512-95dc-5a51348d15c8"
      },
      "outputs": [
        {
          "output_type": "execute_result",
          "data": {
            "text/plain": [
              "\"ESBMC version 7.5.0 64-bit x86_64 linux\\nTarget: 64-bit little-endian x86_64-unknown-linux with esbmclibc\\nParsing /content/codigoTransformadoEmC.c\\n\\x1b[1m/content/codigoTransformadoEmC.c:14:11: \\x1b[0m\\x1b[0;1;35mwarning: \\x1b[0m\\x1b[1mimplicit declaration of function 'time' is invalid in C99 [-Wimplicit-function-declaration]\\x1b[0m\\n    srand(time(0));\\n\\x1b[0;1;32m          ^\\n\\x1b[0mConverting\\nGenerating GOTO Program\\nGOTO program creation time: 0.215s\\nGOTO program processing time: 0.002s\\nClaim 1:\\n  file io.c line 123 column 3 function fgets\\n  the pointer to a file object must be a valid argument\\n  (_Bool)(stream == stdin || stream != 0)\\n\\nClaim 2:\\n  file stdlib.c line 197 column 1 function atoi\\n  array bounds violated: array `ATOI_MAP' lower bound\\n  (signed long int)((unsigned char)(*s)) >= 0\\n\\nClaim 3:\\n  file stdlib.c line 197 column 1 function atoi\\n  array bounds violated: array `ATOI_MAP' upper bound\\n  (signed long int)((unsigned char)(*s)) < 256\\n\\nClaim 4:\\n  file stdlib.c line 198 column 1 function atol\\n  array bounds violated: array `ATOI_MAP' lower bound\\n  (signed long int)((unsigned char)(*s)) >= 0\\n\\nClaim 5:\\n  file stdlib.c line 198 column 1 function atol\\n  array bounds violated: array `ATOI_MAP' upper bound\\n  (signed long int)((unsigned char)(*s)) < 256\\n\\nClaim 6:\\n  file stdlib.c line 199 column 1 function atoll\\n  array bounds violated: array `ATOI_MAP' lower bound\\n  (signed long int)((unsigned char)(*s)) >= 0\\n\\nClaim 7:\\n  file stdlib.c line 199 column 1 function atoll\\n  array bounds violated: array `ATOI_MAP' upper bound\\n  (signed long int)((unsigned char)(*s)) < 256\\n\\nClaim 8:\\n  file stdlib.c line 144 column 5 function strtol\\n  division by zero\\n  (signed long int)base != 0\\n\\n\""
            ],
            "application/vnd.google.colaboratory.intrinsic+json": {
              "type": "string"
            }
          },
          "metadata": {},
          "execution_count": 35
        }
      ],
      "source": [
        "leitura"
      ]
    },
    {
      "cell_type": "code",
      "execution_count": null,
      "metadata": {
        "id": "jfHddhGFnkyM",
        "colab": {
          "base_uri": "https://localhost:8080/"
        },
        "outputId": "81897055-607e-4a72-82b9-648eb764ba51"
      },
      "outputs": [
        {
          "output_type": "stream",
          "name": "stdout",
          "text": [
            "Claim 1:\n",
            "file io.c line 123 column 3 function fgets\n",
            "the pointer to a file object must be a valid argument\n",
            "(_Bool)(stream == stdin || stream != 0)\n",
            "Claim 2:\n",
            "file stdlib.c line 197 column 1 function atoi\n",
            "array bounds violated: array `ATOI_MAP' lower bound\n",
            "(signed long int)((unsigned char)(*s)) >= 0\n",
            "Claim 3:\n",
            "file stdlib.c line 197 column 1 function atoi\n",
            "array bounds violated: array `ATOI_MAP' upper bound\n",
            "(signed long int)((unsigned char)(*s)) < 256\n",
            "Claim 4:\n",
            "file stdlib.c line 198 column 1 function atol\n",
            "array bounds violated: array `ATOI_MAP' lower bound\n",
            "(signed long int)((unsigned char)(*s)) >= 0\n",
            "Claim 5:\n",
            "file stdlib.c line 198 column 1 function atol\n",
            "array bounds violated: array `ATOI_MAP' upper bound\n",
            "(signed long int)((unsigned char)(*s)) < 256\n",
            "Claim 6:\n",
            "file stdlib.c line 199 column 1 function atoll\n",
            "array bounds violated: array `ATOI_MAP' lower bound\n",
            "(signed long int)((unsigned char)(*s)) >= 0\n",
            "Claim 7:\n",
            "file stdlib.c line 199 column 1 function atoll\n",
            "array bounds violated: array `ATOI_MAP' upper bound\n",
            "(signed long int)((unsigned char)(*s)) < 256\n",
            "Claim 8:\n",
            "file stdlib.c line 144 column 5 function strtol\n",
            "division by zero\n",
            "(signed long int)base != 0\n",
            "\n"
          ]
        }
      ],
      "source": [
        "# Expressão regular para capturar todos os dados\n",
        "pattern = r'(Claim \\d+:\\n)\\s*(file .*)'\n",
        "\n",
        "# Encontrando todas as correspondências\n",
        "matches = re.findall(pattern, leitura, re.DOTALL)\n",
        "\n",
        "# Concatenando todas as correspondências em uma única string e removendo os espaços em branco antes das linhas de dados\n",
        "data = '\\n'.join(match[0] + re.sub(r'\\n\\s+', '\\n', match[1]) for match in matches)\n",
        "\n",
        "# Imprimindo a saída\n",
        "print(data)\n"
      ]
    },
    {
      "cell_type": "code",
      "execution_count": null,
      "metadata": {
        "id": "qAnUr-B5WNrE",
        "colab": {
          "base_uri": "https://localhost:8080/"
        },
        "outputId": "456a7c6e-b6dc-4d43-edd5-df3364bbdb3e"
      },
      "outputs": [
        {
          "output_type": "stream",
          "name": "stdout",
          "text": [
            "['Claim 1\\nline 123\\n(stream == stdin || stream != 0)\\n', 'Claim 2\\nline 197\\n((*s)) >= 0\\n', 'Claim 3\\nline 197\\n((*s)) < 256\\n', 'Claim 4\\nline 198\\n((*s)) >= 0\\n', 'Claim 5\\nline 198\\n((*s)) < 256\\n', 'Claim 6\\nline 199\\n((*s)) >= 0\\n', 'Claim 7\\nline 199\\n((*s)) < 256\\n', 'Claim 8\\nline 144\\nbase != 0\\n']\n"
          ]
        }
      ],
      "source": [
        "pattern_claim_line = r\"Claim\\s(\\d+):.*\\nfile\\s.*\\sline\\s(\\d+)\"\n",
        "matches_claim_line = re.findall(pattern_claim_line, data)\n",
        "\n",
        "pattern_expression = r\"\\n.*?\\n.*?\\n(.*?)(?:\\n|$)\"\n",
        "matches_expression = re.findall(pattern_expression, data, re.DOTALL)\n",
        "\n",
        "def remove_typing(expression):\n",
        "    # Remove tipagens como (_Bool) ou (signed long int)\n",
        "    expression = re.sub(r'\\(\\w+\\s*\\w*\\s*\\w*\\)', '', expression)\n",
        "    return expression.strip()\n",
        "\n",
        "if len(matches_claim_line) != len(matches_expression):\n",
        "    error_message = \"Erro: O número de claims não corresponde ao número de expressões capturadas.\"\n",
        "    print(error_message)\n",
        "    with open('output.txt', 'w') as f:\n",
        "        f.write(error_message)\n",
        "else:\n",
        "    # Combinar os resultados e imprimir/salvar\n",
        "    output_list = []\n",
        "\n",
        "    for i, (claim, line) in enumerate(matches_claim_line):\n",
        "        expression = remove_typing(matches_expression[i].strip())\n",
        "        dados = f\"Claim {claim}\\nline {line}\\n{expression}\\n\"\n",
        "        output_list.append(dados)\n",
        "print(output_list)"
      ]
    },
    {
      "cell_type": "markdown",
      "source": [
        "## Organizar claims em tabela (DataFrame)\n",
        "### Monta um DataFrame com Claim, Line e Expression."
      ],
      "metadata": {
        "id": "ZRfQQ7FDbx9W"
      }
    },
    {
      "cell_type": "code",
      "execution_count": null,
      "metadata": {
        "id": "JrzZL0H7WNoR",
        "colab": {
          "base_uri": "https://localhost:8080/",
          "height": 300
        },
        "outputId": "f35e8b87-4cc3-436d-f6f6-491d203a96db"
      },
      "outputs": [
        {
          "output_type": "execute_result",
          "data": {
            "text/plain": [
              "  Claims Line                        Expression\n",
              "0      1  123  (stream == stdin || stream != 0)\n",
              "1      2  197                       ((*s)) >= 0\n",
              "2      3  197                      ((*s)) < 256\n",
              "3      4  198                       ((*s)) >= 0\n",
              "4      5  198                      ((*s)) < 256\n",
              "5      6  199                       ((*s)) >= 0\n",
              "6      7  199                      ((*s)) < 256\n",
              "7      8  144                         base != 0"
            ],
            "text/html": [
              "\n",
              "  <div id=\"df-1c8a839b-ec81-4a6e-b35d-5d732febd64e\" class=\"colab-df-container\">\n",
              "    <div>\n",
              "<style scoped>\n",
              "    .dataframe tbody tr th:only-of-type {\n",
              "        vertical-align: middle;\n",
              "    }\n",
              "\n",
              "    .dataframe tbody tr th {\n",
              "        vertical-align: top;\n",
              "    }\n",
              "\n",
              "    .dataframe thead th {\n",
              "        text-align: right;\n",
              "    }\n",
              "</style>\n",
              "<table border=\"1\" class=\"dataframe\">\n",
              "  <thead>\n",
              "    <tr style=\"text-align: right;\">\n",
              "      <th></th>\n",
              "      <th>Claims</th>\n",
              "      <th>Line</th>\n",
              "      <th>Expression</th>\n",
              "    </tr>\n",
              "  </thead>\n",
              "  <tbody>\n",
              "    <tr>\n",
              "      <th>0</th>\n",
              "      <td>1</td>\n",
              "      <td>123</td>\n",
              "      <td>(stream == stdin || stream != 0)</td>\n",
              "    </tr>\n",
              "    <tr>\n",
              "      <th>1</th>\n",
              "      <td>2</td>\n",
              "      <td>197</td>\n",
              "      <td>((*s)) &gt;= 0</td>\n",
              "    </tr>\n",
              "    <tr>\n",
              "      <th>2</th>\n",
              "      <td>3</td>\n",
              "      <td>197</td>\n",
              "      <td>((*s)) &lt; 256</td>\n",
              "    </tr>\n",
              "    <tr>\n",
              "      <th>3</th>\n",
              "      <td>4</td>\n",
              "      <td>198</td>\n",
              "      <td>((*s)) &gt;= 0</td>\n",
              "    </tr>\n",
              "    <tr>\n",
              "      <th>4</th>\n",
              "      <td>5</td>\n",
              "      <td>198</td>\n",
              "      <td>((*s)) &lt; 256</td>\n",
              "    </tr>\n",
              "    <tr>\n",
              "      <th>5</th>\n",
              "      <td>6</td>\n",
              "      <td>199</td>\n",
              "      <td>((*s)) &gt;= 0</td>\n",
              "    </tr>\n",
              "    <tr>\n",
              "      <th>6</th>\n",
              "      <td>7</td>\n",
              "      <td>199</td>\n",
              "      <td>((*s)) &lt; 256</td>\n",
              "    </tr>\n",
              "    <tr>\n",
              "      <th>7</th>\n",
              "      <td>8</td>\n",
              "      <td>144</td>\n",
              "      <td>base != 0</td>\n",
              "    </tr>\n",
              "  </tbody>\n",
              "</table>\n",
              "</div>\n",
              "    <div class=\"colab-df-buttons\">\n",
              "\n",
              "  <div class=\"colab-df-container\">\n",
              "    <button class=\"colab-df-convert\" onclick=\"convertToInteractive('df-1c8a839b-ec81-4a6e-b35d-5d732febd64e')\"\n",
              "            title=\"Convert this dataframe to an interactive table.\"\n",
              "            style=\"display:none;\">\n",
              "\n",
              "  <svg xmlns=\"http://www.w3.org/2000/svg\" height=\"24px\" viewBox=\"0 -960 960 960\">\n",
              "    <path d=\"M120-120v-720h720v720H120Zm60-500h600v-160H180v160Zm220 220h160v-160H400v160Zm0 220h160v-160H400v160ZM180-400h160v-160H180v160Zm440 0h160v-160H620v160ZM180-180h160v-160H180v160Zm440 0h160v-160H620v160Z\"/>\n",
              "  </svg>\n",
              "    </button>\n",
              "\n",
              "  <style>\n",
              "    .colab-df-container {\n",
              "      display:flex;\n",
              "      gap: 12px;\n",
              "    }\n",
              "\n",
              "    .colab-df-convert {\n",
              "      background-color: #E8F0FE;\n",
              "      border: none;\n",
              "      border-radius: 50%;\n",
              "      cursor: pointer;\n",
              "      display: none;\n",
              "      fill: #1967D2;\n",
              "      height: 32px;\n",
              "      padding: 0 0 0 0;\n",
              "      width: 32px;\n",
              "    }\n",
              "\n",
              "    .colab-df-convert:hover {\n",
              "      background-color: #E2EBFA;\n",
              "      box-shadow: 0px 1px 2px rgba(60, 64, 67, 0.3), 0px 1px 3px 1px rgba(60, 64, 67, 0.15);\n",
              "      fill: #174EA6;\n",
              "    }\n",
              "\n",
              "    .colab-df-buttons div {\n",
              "      margin-bottom: 4px;\n",
              "    }\n",
              "\n",
              "    [theme=dark] .colab-df-convert {\n",
              "      background-color: #3B4455;\n",
              "      fill: #D2E3FC;\n",
              "    }\n",
              "\n",
              "    [theme=dark] .colab-df-convert:hover {\n",
              "      background-color: #434B5C;\n",
              "      box-shadow: 0px 1px 3px 1px rgba(0, 0, 0, 0.15);\n",
              "      filter: drop-shadow(0px 1px 2px rgba(0, 0, 0, 0.3));\n",
              "      fill: #FFFFFF;\n",
              "    }\n",
              "  </style>\n",
              "\n",
              "    <script>\n",
              "      const buttonEl =\n",
              "        document.querySelector('#df-1c8a839b-ec81-4a6e-b35d-5d732febd64e button.colab-df-convert');\n",
              "      buttonEl.style.display =\n",
              "        google.colab.kernel.accessAllowed ? 'block' : 'none';\n",
              "\n",
              "      async function convertToInteractive(key) {\n",
              "        const element = document.querySelector('#df-1c8a839b-ec81-4a6e-b35d-5d732febd64e');\n",
              "        const dataTable =\n",
              "          await google.colab.kernel.invokeFunction('convertToInteractive',\n",
              "                                                    [key], {});\n",
              "        if (!dataTable) return;\n",
              "\n",
              "        const docLinkHtml = 'Like what you see? Visit the ' +\n",
              "          '<a target=\"_blank\" href=https://colab.research.google.com/notebooks/data_table.ipynb>data table notebook</a>'\n",
              "          + ' to learn more about interactive tables.';\n",
              "        element.innerHTML = '';\n",
              "        dataTable['output_type'] = 'display_data';\n",
              "        await google.colab.output.renderOutput(dataTable, element);\n",
              "        const docLink = document.createElement('div');\n",
              "        docLink.innerHTML = docLinkHtml;\n",
              "        element.appendChild(docLink);\n",
              "      }\n",
              "    </script>\n",
              "  </div>\n",
              "\n",
              "\n",
              "    <div id=\"df-4f3dee21-d65a-457a-8349-df9ccf9cb322\">\n",
              "      <button class=\"colab-df-quickchart\" onclick=\"quickchart('df-4f3dee21-d65a-457a-8349-df9ccf9cb322')\"\n",
              "                title=\"Suggest charts\"\n",
              "                style=\"display:none;\">\n",
              "\n",
              "<svg xmlns=\"http://www.w3.org/2000/svg\" height=\"24px\"viewBox=\"0 0 24 24\"\n",
              "     width=\"24px\">\n",
              "    <g>\n",
              "        <path d=\"M19 3H5c-1.1 0-2 .9-2 2v14c0 1.1.9 2 2 2h14c1.1 0 2-.9 2-2V5c0-1.1-.9-2-2-2zM9 17H7v-7h2v7zm4 0h-2V7h2v10zm4 0h-2v-4h2v4z\"/>\n",
              "    </g>\n",
              "</svg>\n",
              "      </button>\n",
              "\n",
              "<style>\n",
              "  .colab-df-quickchart {\n",
              "      --bg-color: #E8F0FE;\n",
              "      --fill-color: #1967D2;\n",
              "      --hover-bg-color: #E2EBFA;\n",
              "      --hover-fill-color: #174EA6;\n",
              "      --disabled-fill-color: #AAA;\n",
              "      --disabled-bg-color: #DDD;\n",
              "  }\n",
              "\n",
              "  [theme=dark] .colab-df-quickchart {\n",
              "      --bg-color: #3B4455;\n",
              "      --fill-color: #D2E3FC;\n",
              "      --hover-bg-color: #434B5C;\n",
              "      --hover-fill-color: #FFFFFF;\n",
              "      --disabled-bg-color: #3B4455;\n",
              "      --disabled-fill-color: #666;\n",
              "  }\n",
              "\n",
              "  .colab-df-quickchart {\n",
              "    background-color: var(--bg-color);\n",
              "    border: none;\n",
              "    border-radius: 50%;\n",
              "    cursor: pointer;\n",
              "    display: none;\n",
              "    fill: var(--fill-color);\n",
              "    height: 32px;\n",
              "    padding: 0;\n",
              "    width: 32px;\n",
              "  }\n",
              "\n",
              "  .colab-df-quickchart:hover {\n",
              "    background-color: var(--hover-bg-color);\n",
              "    box-shadow: 0 1px 2px rgba(60, 64, 67, 0.3), 0 1px 3px 1px rgba(60, 64, 67, 0.15);\n",
              "    fill: var(--button-hover-fill-color);\n",
              "  }\n",
              "\n",
              "  .colab-df-quickchart-complete:disabled,\n",
              "  .colab-df-quickchart-complete:disabled:hover {\n",
              "    background-color: var(--disabled-bg-color);\n",
              "    fill: var(--disabled-fill-color);\n",
              "    box-shadow: none;\n",
              "  }\n",
              "\n",
              "  .colab-df-spinner {\n",
              "    border: 2px solid var(--fill-color);\n",
              "    border-color: transparent;\n",
              "    border-bottom-color: var(--fill-color);\n",
              "    animation:\n",
              "      spin 1s steps(1) infinite;\n",
              "  }\n",
              "\n",
              "  @keyframes spin {\n",
              "    0% {\n",
              "      border-color: transparent;\n",
              "      border-bottom-color: var(--fill-color);\n",
              "      border-left-color: var(--fill-color);\n",
              "    }\n",
              "    20% {\n",
              "      border-color: transparent;\n",
              "      border-left-color: var(--fill-color);\n",
              "      border-top-color: var(--fill-color);\n",
              "    }\n",
              "    30% {\n",
              "      border-color: transparent;\n",
              "      border-left-color: var(--fill-color);\n",
              "      border-top-color: var(--fill-color);\n",
              "      border-right-color: var(--fill-color);\n",
              "    }\n",
              "    40% {\n",
              "      border-color: transparent;\n",
              "      border-right-color: var(--fill-color);\n",
              "      border-top-color: var(--fill-color);\n",
              "    }\n",
              "    60% {\n",
              "      border-color: transparent;\n",
              "      border-right-color: var(--fill-color);\n",
              "    }\n",
              "    80% {\n",
              "      border-color: transparent;\n",
              "      border-right-color: var(--fill-color);\n",
              "      border-bottom-color: var(--fill-color);\n",
              "    }\n",
              "    90% {\n",
              "      border-color: transparent;\n",
              "      border-bottom-color: var(--fill-color);\n",
              "    }\n",
              "  }\n",
              "</style>\n",
              "\n",
              "      <script>\n",
              "        async function quickchart(key) {\n",
              "          const quickchartButtonEl =\n",
              "            document.querySelector('#' + key + ' button');\n",
              "          quickchartButtonEl.disabled = true;  // To prevent multiple clicks.\n",
              "          quickchartButtonEl.classList.add('colab-df-spinner');\n",
              "          try {\n",
              "            const charts = await google.colab.kernel.invokeFunction(\n",
              "                'suggestCharts', [key], {});\n",
              "          } catch (error) {\n",
              "            console.error('Error during call to suggestCharts:', error);\n",
              "          }\n",
              "          quickchartButtonEl.classList.remove('colab-df-spinner');\n",
              "          quickchartButtonEl.classList.add('colab-df-quickchart-complete');\n",
              "        }\n",
              "        (() => {\n",
              "          let quickchartButtonEl =\n",
              "            document.querySelector('#df-4f3dee21-d65a-457a-8349-df9ccf9cb322 button');\n",
              "          quickchartButtonEl.style.display =\n",
              "            google.colab.kernel.accessAllowed ? 'block' : 'none';\n",
              "        })();\n",
              "      </script>\n",
              "    </div>\n",
              "\n",
              "  <div id=\"id_c03bd245-6959-4f2a-9229-1106f54f3e80\">\n",
              "    <style>\n",
              "      .colab-df-generate {\n",
              "        background-color: #E8F0FE;\n",
              "        border: none;\n",
              "        border-radius: 50%;\n",
              "        cursor: pointer;\n",
              "        display: none;\n",
              "        fill: #1967D2;\n",
              "        height: 32px;\n",
              "        padding: 0 0 0 0;\n",
              "        width: 32px;\n",
              "      }\n",
              "\n",
              "      .colab-df-generate:hover {\n",
              "        background-color: #E2EBFA;\n",
              "        box-shadow: 0px 1px 2px rgba(60, 64, 67, 0.3), 0px 1px 3px 1px rgba(60, 64, 67, 0.15);\n",
              "        fill: #174EA6;\n",
              "      }\n",
              "\n",
              "      [theme=dark] .colab-df-generate {\n",
              "        background-color: #3B4455;\n",
              "        fill: #D2E3FC;\n",
              "      }\n",
              "\n",
              "      [theme=dark] .colab-df-generate:hover {\n",
              "        background-color: #434B5C;\n",
              "        box-shadow: 0px 1px 3px 1px rgba(0, 0, 0, 0.15);\n",
              "        filter: drop-shadow(0px 1px 2px rgba(0, 0, 0, 0.3));\n",
              "        fill: #FFFFFF;\n",
              "      }\n",
              "    </style>\n",
              "    <button class=\"colab-df-generate\" onclick=\"generateWithVariable('df')\"\n",
              "            title=\"Generate code using this dataframe.\"\n",
              "            style=\"display:none;\">\n",
              "\n",
              "  <svg xmlns=\"http://www.w3.org/2000/svg\" height=\"24px\"viewBox=\"0 0 24 24\"\n",
              "       width=\"24px\">\n",
              "    <path d=\"M7,19H8.4L18.45,9,17,7.55,7,17.6ZM5,21V16.75L18.45,3.32a2,2,0,0,1,2.83,0l1.4,1.43a1.91,1.91,0,0,1,.58,1.4,1.91,1.91,0,0,1-.58,1.4L9.25,21ZM18.45,9,17,7.55Zm-12,3A5.31,5.31,0,0,0,4.9,8.1,5.31,5.31,0,0,0,1,6.5,5.31,5.31,0,0,0,4.9,4.9,5.31,5.31,0,0,0,6.5,1,5.31,5.31,0,0,0,8.1,4.9,5.31,5.31,0,0,0,12,6.5,5.46,5.46,0,0,0,6.5,12Z\"/>\n",
              "  </svg>\n",
              "    </button>\n",
              "    <script>\n",
              "      (() => {\n",
              "      const buttonEl =\n",
              "        document.querySelector('#id_c03bd245-6959-4f2a-9229-1106f54f3e80 button.colab-df-generate');\n",
              "      buttonEl.style.display =\n",
              "        google.colab.kernel.accessAllowed ? 'block' : 'none';\n",
              "\n",
              "      buttonEl.onclick = () => {\n",
              "        google.colab.notebook.generateWithVariable('df');\n",
              "      }\n",
              "      })();\n",
              "    </script>\n",
              "  </div>\n",
              "\n",
              "    </div>\n",
              "  </div>\n"
            ],
            "application/vnd.google.colaboratory.intrinsic+json": {
              "type": "dataframe",
              "variable_name": "df",
              "summary": "{\n  \"name\": \"df\",\n  \"rows\": 8,\n  \"fields\": [\n    {\n      \"column\": \"Claims\",\n      \"properties\": {\n        \"dtype\": \"string\",\n        \"num_unique_values\": 8,\n        \"samples\": [\n          \"2\",\n          \"6\",\n          \"1\"\n        ],\n        \"semantic_type\": \"\",\n        \"description\": \"\"\n      }\n    },\n    {\n      \"column\": \"Line\",\n      \"properties\": {\n        \"dtype\": \"string\",\n        \"num_unique_values\": 5,\n        \"samples\": [\n          \"197\",\n          \"144\",\n          \"198\"\n        ],\n        \"semantic_type\": \"\",\n        \"description\": \"\"\n      }\n    },\n    {\n      \"column\": \"Expression\",\n      \"properties\": {\n        \"dtype\": \"string\",\n        \"num_unique_values\": 4,\n        \"samples\": [\n          \"((*s)) >= 0\",\n          \"base != 0\",\n          \"(stream == stdin || stream != 0)\"\n        ],\n        \"semantic_type\": \"\",\n        \"description\": \"\"\n      }\n    }\n  ]\n}"
            }
          },
          "metadata": {},
          "execution_count": 38
        }
      ],
      "source": [
        "# Criar listas para cada coluna\n",
        "claims = []\n",
        "linhas_numeros = []\n",
        "descricoes = []\n",
        "\n",
        "# Preencher as listas com os dados de output_list\n",
        "for dados in output_list:\n",
        "    linhas = dados.split('\\n')\n",
        "    claim = linhas[0].split()[1]  # Extrair o número do claim\n",
        "    linha_numero = linhas[1].split()[1]  # Extrair o número da linha\n",
        "    descricao = linhas[2]\n",
        "    claims.append(claim)\n",
        "    linhas_numeros.append(linha_numero)\n",
        "    descricoes.append(descricao)\n",
        "\n",
        "# Criar o DataFrame\n",
        "df = pd.DataFrame({\n",
        "    'Claims': claims,\n",
        "    'Line': linhas_numeros,\n",
        "    'Expression': descricoes\n",
        "})\n",
        "\n",
        "df"
      ]
    },
    {
      "cell_type": "code",
      "execution_count": null,
      "metadata": {
        "id": "-7L8V2_F23t6",
        "colab": {
          "base_uri": "https://localhost:8080/"
        },
        "outputId": "06fa9be8-b59a-4193-e15d-e912ff9446f4"
      },
      "outputs": [
        {
          "output_type": "stream",
          "name": "stdout",
          "text": [
            "  Claims Line Expression\n",
            "7      8  144  base != 0\n"
          ]
        }
      ],
      "source": [
        "data = df\n",
        "df = pd.DataFrame(data)\n",
        "\n",
        "# Função para filtrar expressões sem parênteses\n",
        "def filtrar_expressao_sem_parenteses(df):\n",
        "    return df[df['Expression'].apply(lambda x: '(' not in x and ')' not in x)]\n",
        "\n",
        "# Aplicar a função\n",
        "df_filtered = filtrar_expressao_sem_parenteses(df)\n",
        "#df_filtered = df\n",
        "print(df_filtered)"
      ]
    },
    {
      "cell_type": "code",
      "execution_count": null,
      "metadata": {
        "id": "Gvj6dVv55vlw"
      },
      "outputs": [],
      "source": [
        "if not df_filtered.empty:\n",
        "  expression_value = df_filtered[df_filtered['Expression'] != \"base != 0\"]\n",
        "  expression_value = expression_value['Expression']\n",
        "else:\n",
        "  expression_value = df_filtered"
      ]
    },
    {
      "cell_type": "code",
      "execution_count": null,
      "metadata": {
        "id": "6VIs8L0t4Fkj",
        "colab": {
          "base_uri": "https://localhost:8080/"
        },
        "outputId": "e9eedbdb-5eef-4458-fb55-28a16ff98738"
      },
      "outputs": [
        {
          "output_type": "stream",
          "name": "stdout",
          "text": [
            "Series([], Name: Expression, dtype: object)\n"
          ]
        }
      ],
      "source": [
        "print(expression_value)"
      ]
    },
    {
      "cell_type": "markdown",
      "metadata": {
        "id": "jjGq-MQkl4at"
      },
      "source": [
        "# Gerar arquivos de teste Kotlin para cada claim detectada\n",
        "### Itera sobre as claims extraídas pelo ESBMC e envia o contexto para a LLM gerar um teste JUnit 5 que comprova a violação."
      ]
    },
    {
      "cell_type": "code",
      "execution_count": null,
      "metadata": {
        "id": "8dF9TCqp3RFK",
        "colab": {
          "base_uri": "https://localhost:8080/"
        },
        "outputId": "2abae03c-ca41-47ef-9326-268d54064001"
      },
      "outputs": [
        {
          "output_type": "stream",
          "name": "stdout",
          "text": [
            "Não tem propriedade violada\n",
            "Não tem propriedade violada\n"
          ]
        }
      ],
      "source": [
        "if expression_value.empty:\n",
        "  print(\"Não tem propriedade violada\")\n",
        "else:\n",
        "  for idx, claim in enumerate(expression_value):\n",
        "        if claim.strip() == \"\":\n",
        "              continue  # pula claims vazias\n",
        "        body = {\n",
        "                \"model\": idModelo,\n",
        "                \"messages\": [{\"role\": \"user\", \"content\": f'''\n",
        "                🎯 Persona do Agente\n",
        "                Você é QA-AI Kotlin Tester, uma profissional de testes de software especialista em Kotlin,\n",
        "                testes automatizados com JUnit 5 e geração de testes inteligentes com suporte à análise dinâmica de dados desse Dataframe {df_filtered}.\n",
        "                Seu papel é garantir robustez e confiabilidade em funções críticas do sistema, identificando e prevenindo falhas como divisão por zero,\n",
        "                overflow e estouro de array.\n",
        "\n",
        "                🧠 Objetivo do Agente\n",
        "                Gerar testes unitários limpos e funcionais em Kotlin, prontos para execução com JUnit 5,\n",
        "                baseando-se nas seguintes condições:\n",
        "\n",
        "                📥 Entrada esperada:\n",
        "                Código Kotlin a ser testado: CodigoKotlin\n",
        "                Expressão lógica extraída da coluna Expression de um DataFrame dinâmico: expression_value\n",
        "\n",
        "                🧪 Regras para geração de testes:\n",
        "                    1. Sempre usar JUnit 5 com:\n",
        "\n",
        "                        - import kotlin.test.assertTrue ou assertEquals, conforme o caso.\n",
        "\n",
        "                    2. O teste deve conter:\n",
        "                        - Gere exatamente 1 classe pública.\n",
        "                        - Na classe, inclua uma função a ser testada.\n",
        "                        - É CRUCIAL que o teste esteja pronto para execução.\n",
        "                        - É CRUCIAL que não tenha comentarios no codigo.\n",
        "                        - É CRUCIAL que as bibliotecas do java.util que devem ser utilizadas sejam importadas.\n",
        "                          Sempre inclua importações explícitas para qualquer uso de:\n",
        "                            Random → import java.util.Random\n",
        "                            List, ArrayList → import java.util.*\n",
        "                            Math → import kotlin.math.*\n",
        "                        - O codigo deve ser escrito em Kotlin.\n",
        "                        - O o teste deve ser clean code.\n",
        "                        - importar as funções necessarias para o teste.\n",
        "                        - Todos os asserts devem estar dentro de um metodo @Test.\n",
        "\n",
        "                    3. Expressões Lógicas:\n",
        "\n",
        "                        - Se expression_value == \"b != 0\" → use diretamente em assertTrue(b != 0)\n",
        "\n",
        "                        - Se for >=, <=, <, > → use assertTrue(...)\n",
        "\n",
        "                        - Se for ==, != → use assertTrue(...)\n",
        "\n",
        "                        - Se expression_value == \"0\" → converta o próprio código como único conteúdo do teste\n",
        "\n",
        "                        - Se não houver expressão → não gerar teste\n",
        "\n",
        "                    4. Boas práticas obrigatórias:\n",
        "\n",
        "                        - Código 100% limpo, sem comentários.\n",
        "\n",
        "                        - Importações mínimas e funcionais.\n",
        "\n",
        "                        - Métodos podem ser estáticos (companion object) se necessário.\n",
        "\n",
        "                    5. Regras adicionais para integridade do teste:\n",
        "\n",
        "                    - Sempre que a função ou classe testada estiver dentro de `CodigoKotlin`, inclua sua definição no mesmo arquivo de teste, antes do método de teste.\n",
        "                    - Se a função estiver encapsulada em uma classe (como `Foo`), essa classe deve ser incluída no início do arquivo de teste.\n",
        "                    - O teste gerado deve ser autoexecutável, sem dependência de arquivos externos.\n",
        "                    - importar as funções necessarias para o teste.\n",
        "                    - importar todas as bibliotecas necessárias para a execução do teste.Exemplo: Random\n",
        "                    - se a função testada estiver definida no `CodigoKotlin`, inclua sua implementação completa acima do método de teste.\n",
        "\n",
        "                    6. Regras de assertiva:\n",
        "\n",
        "                    - Se o `CodigoKotlin` já contiver uma `assert(...)` ou `assertTrue(...)`, o teste deve **preservar exatamente essa assertiva** no método de teste gerado, mesmo que ela contenha um erro lógico.\n",
        "                    - A expressão `expression_value` deve ser usada **apenas** quando não houver uma assertiva explícita no código original.\n",
        "\n",
        "                    7. Regras para variáveis de escopo:\n",
        "\n",
        "                    - Se a assertiva referenciar uma variável local (como `y != 0`) e essa variável não estiver visível fora da função, o teste deve declarar a variável novamente no escopo da função de teste.\n",
        "                    - A variável deve ser declarada com o mesmo valor original para garantir coerência do teste.\n",
        "                    - Se a variável for crítica para lógica (ex: divisor de uma divisão), deve ser recriada com o mesmo nome e valor antes da assertiva.\n",
        "\n",
        "\n",
        "                🛡️ Casos especiais:\n",
        "\n",
        "                      Divisão por zero:\n",
        "\n",
        "                            - Se detectado divisor 0, use assertTrue(b != 0) antes da divisão.\n",
        "\n",
        "                      Overflow:\n",
        "\n",
        "                            - Simule cenários com Int.MAX_VALUE + 1 ou similar.\n",
        "\n",
        "                      Estouro de array:\n",
        "\n",
        "                            - Se indexação for inválida (ex: arr[10] com arr.size == 5)\n",
        "                      '''\n",
        "                \"\"\"\n",
        "\n",
        "                📤 Exemplo gerado esperado:\n",
        "\n",
        "                        import kotlin.test.Test\n",
        "                        import kotlin.test.assertTrue\n",
        "\n",
        "                        class DivisaoPorZeroTest {\n",
        "\n",
        "                            @Test\n",
        "                            fun testDivisaoSegura() {\n",
        "                                val a = 10\n",
        "                                val b = 0\n",
        "                                assertTrue(b != 0)\n",
        "                            }\n",
        "                        }\n",
        "              REGRAS DO CODIGO\n",
        "                  1. NÃO FAÇA NENHUM COMENTARIO NO CODIGO, CODIGO LIMPO É IMPRESSINDIVÉL;\n",
        "                  2. SE A EXPRESSÃO NÃO ESTIVER EM KOTLIN, FAÇA A CONVERSÃO.\n",
        "                  IMPORTAR AS FUNÇÕES EXISTENTES NO CÓDIGO ORIGINAL NECESSARIOS PARA OS TESTE.\n",
        "\n",
        "                GERE UM TESTE PARA  ESTE CÓDIGO \"\"\" f'''{CodigoKotlin}'''\n",
        "            \"\"\"USANDO SOMENTE ESSA ASSERT é \"\"\" f'''{expression_value}'''}]}\n",
        "\n",
        "try:\n",
        "    if not expression_value.empty:\n",
        "        body = json.dumps(body)\n",
        "        requisicao = requests.post(link, headers=headers, data=body)\n",
        "        resposta = requisicao.json()\n",
        "        mensagem1 = resposta[\"choices\"][0][\"message\"][\"content\"]\n",
        "\n",
        "        pastaKotlin = \"JUnit\"\n",
        "        pastaKotlinCaminho = \"/content/JUnit\"\n",
        "\n",
        "        # Definindo o caminho onde o arquivo será salvo\n",
        "        caminho = \"/content/src/test/kotlin\"\n",
        "        os.makedirs(caminho, exist_ok=True)\n",
        "\n",
        "        nome_arquivo = os.path.join(caminho, \"testeEmKotlin.kt\")\n",
        "\n",
        "        # Aplica a limpeza antes de salvar\n",
        "        codigo_limpo = limpar_codigo(mensagem1)\n",
        "        with open(nome_arquivo, 'w') as arquivo:\n",
        "            arquivo.write(codigo_limpo)\n",
        "\n",
        "        print(f\"Arquivo salvo em: {nome_arquivo}\")\n",
        "        print(codigo_limpo)\n",
        "    else:\n",
        "        print(\"Não tem propriedade violada\")\n",
        "except Exception as e:\n",
        "    print(f\"Erro ao gerar ou salvar o teste: {e}\")"
      ]
    },
    {
      "cell_type": "markdown",
      "metadata": {
        "id": "TL94MTz0_eDW"
      },
      "source": []
    },
    {
      "cell_type": "code",
      "source": [
        "if codigo_limpo.strip().startswith(\"'''\") or codigo_limpo.strip().startswith(\"```\"):\n",
        "    sys.exit(\"O código gerado está dentro de um comentário. Remova o marcador '''kotlin ou ```kotlin ou execute novamente a partir da célula anterior.\")\n",
        "else:\n",
        "    print(\"✅ O último código gerado não contém marcadores de linguagem.\")"
      ],
      "metadata": {
        "id": "bJq-8wBeEs8W",
        "colab": {
          "base_uri": "https://localhost:8080/"
        },
        "outputId": "ed6ed055-2889-4ca2-8af9-a0da797f8776"
      },
      "execution_count": null,
      "outputs": [
        {
          "output_type": "stream",
          "name": "stdout",
          "text": [
            "✅ O último código gerado não contém marcadores de linguagem.\n"
          ]
        }
      ]
    },
    {
      "cell_type": "code",
      "execution_count": null,
      "metadata": {
        "id": "eF8LoV_AyjwC",
        "colab": {
          "base_uri": "https://localhost:8080/"
        },
        "outputId": "3c01b728-8b80-42ba-8b3a-5514e8758787"
      },
      "outputs": [
        {
          "output_type": "stream",
          "name": "stdout",
          "text": [
            "/content\n"
          ]
        }
      ],
      "source": [
        "cd ../.."
      ]
    },
    {
      "cell_type": "markdown",
      "metadata": {
        "id": "4MHP6hJnnqqB"
      },
      "source": [
        "# Seção: testes JUnit (execução e relatório)\n",
        "### Introdução à etapa de geração/execução de testes."
      ]
    },
    {
      "cell_type": "markdown",
      "source": [
        "## Inicializar SDKMAN!\n",
        "### Prepara o gerenciador para instalar Java/Kotlin."
      ],
      "metadata": {
        "id": "KHJUe8jjcff7"
      }
    },
    {
      "cell_type": "code",
      "execution_count": null,
      "metadata": {
        "id": "_HqrTbE3mYkS",
        "colab": {
          "base_uri": "https://localhost:8080/"
        },
        "outputId": "cc55238f-4294-4504-be4a-7acc165cf7d3"
      },
      "outputs": [
        {
          "output_type": "stream",
          "name": "stdout",
          "text": [
            "\n",
            "                                -+syyyyyyys:\n",
            "                            `/yho:`       -yd.\n",
            "                         `/yh/`             +m.\n",
            "                       .oho.                 hy                          .`\n",
            "                     .sh/`                   :N`                `-/o`  `+dyyo:.\n",
            "                   .yh:`                     `M-          `-/osysoym  :hs` `-+sys:      hhyssssssssy+\n",
            "                 .sh:`                       `N:          ms/-``  yy.yh-      -hy.    `.N-````````+N.\n",
            "               `od/`                         `N-       -/oM-      ddd+`     `sd:     hNNm        -N:\n",
            "              :do`                           .M.       dMMM-     `ms.      /d+`     `NMMs       `do\n",
            "            .yy-                             :N`    ```mMMM.      -      -hy.       /MMM:       yh\n",
            "          `+d+`           `:/oo/`       `-/osyh/ossssssdNMM`           .sh:         yMMN`      /m.\n",
            "         -dh-           :ymNMMMMy  `-/shmNm-`:N/-.``   `.sN            /N-         `NMMy      .m/\n",
            "       `oNs`          -hysosmMMMMydmNmds+-.:ohm           :             sd`        :MMM/      yy\n",
            "      .hN+           /d:    -MMMmhs/-.`   .MMMh   .ss+-                 `yy`       sMMN`     :N.\n",
            "     :mN/           `N/     `o/-`         :MMMo   +MMMN-         .`      `ds       mMMh      do\n",
            "    /NN/            `N+....--:/+oooosooo+:sMMM:   hMMMM:        `my       .m+     -MMM+     :N.\n",
            "   /NMo              -+ooooo+/:-....`...:+hNMN.  `NMMMd`        .MM/       -m:    oMMN.     hs\n",
            "  -NMd`                                    :mm   -MMMm- .s/     -MMm.       /m-   mMMd     -N.\n",
            " `mMM/                                      .-   /MMh. -dMo     -MMMy        od. .MMMs..---yh\n",
            " +MMM.                                           sNo`.sNMM+     :MMMM/        sh`+MMMNmNm+++-\n",
            " mMMM-                                           /--ohmMMM+     :MMMMm.       `hyymmmdddo\n",
            " MMMMh.                  ````                  `-+yy/`yMMM/     :MMMMMy       -sm:.``..-:-.`\n",
            " dMMMMmo-.``````..-:/osyhddddho.           `+shdh+.   hMMM:     :MmMMMM/   ./yy/` `:sys+/+sh/\n",
            " .dMMMMMMmdddddmmNMMMNNNNNMMMMMs           sNdo-      dMMM-  `-/yd/MMMMm-:sy+.   :hs-      /N`\n",
            "  `/ymNNNNNNNmmdys+/::----/dMMm:          +m-         mMMM+ohmo/.` sMMMMdo-    .om:       `sh\n",
            "     `.-----+/.`       `.-+hh/`         `od.          NMMNmds/     `mmy:`     +mMy      `:yy.\n",
            "           /moyso+//+ossso:.           .yy`          `dy+:`         ..       :MMMN+---/oys:\n",
            "         /+m:  `.-:::-`               /d+                                    +MMMMMMMNh:`\n",
            "        +MN/                        -yh.                                     `+hddhy+.\n",
            "       /MM+                       .sh:\n",
            "      :NMo                      -sh/\n",
            "     -NMs                    `/yy:\n",
            "    .NMy                  `:sh+.\n",
            "   `mMm`               ./yds-\n",
            "  `dMMMmyo:-.````.-:oymNy:`\n",
            "  +NMMMMMMMMMMMMMMMMms:`\n",
            "    -+shmNMMMNmdy+:`\n",
            "\n",
            "\n",
            "                                                                 Now attempting installation...\n",
            "\n",
            "\n",
            "Looking for a previous installation of SDKMAN...\n",
            "SDKMAN found.\n",
            "\n",
            "======================================================================================================\n",
            " You already have SDKMAN installed.\n",
            " SDKMAN was found at:\n",
            "\n",
            "    /root/.sdkman\n",
            "\n",
            " Please consider running the following if you need to upgrade.\n",
            "\n",
            "    $ sdk selfupdate force\n",
            "\n",
            "======================================================================================================\n",
            "\n"
          ]
        }
      ],
      "source": [
        "!curl -s https://get.sdkman.io | bash"
      ]
    },
    {
      "cell_type": "markdown",
      "source": [
        "## Instalar Java 17 (via SDKMAN!)\n",
        "### Ambiente necessário para compilar/rodar testes Kotlin/JUnit."
      ],
      "metadata": {
        "id": "lWK1HiBlclxT"
      }
    },
    {
      "cell_type": "code",
      "execution_count": null,
      "metadata": {
        "id": "dJFCWA6noCFN",
        "colab": {
          "base_uri": "https://localhost:8080/"
        },
        "outputId": "1e0b36db-ad1e-4e2b-e464-a171136f0ce4"
      },
      "outputs": [
        {
          "output_type": "stream",
          "name": "stdout",
          "text": [
            "\n",
            "\u001b[1;33mSDKMAN!\u001b[0m\n",
            "script: 5.20.0\n",
            "native: 0.7.4 (linux x86_64)\n",
            "\n"
          ]
        }
      ],
      "source": [
        "!source \"/root/.sdkman/bin/sdkman-init.sh\" && sdk version"
      ]
    },
    {
      "cell_type": "code",
      "execution_count": null,
      "metadata": {
        "id": "H7snIPLQ0t20",
        "colab": {
          "base_uri": "https://localhost:8080/"
        },
        "outputId": "e6dadce1-0d0c-480e-e7cd-72811538a1a5"
      },
      "outputs": [
        {
          "output_type": "stream",
          "name": "stdout",
          "text": [
            "\n",
            "\u001b[1;33mjava 17.0.2-open is already installed.\u001b[0m\n"
          ]
        }
      ],
      "source": [
        "!source \"/root/.sdkman/bin/sdkman-init.sh\" && sdk install java 17.0.2-open"
      ]
    },
    {
      "cell_type": "markdown",
      "source": [
        "## Instalar Kotlin 1.6.21 (via SDKMAN!)\n",
        "###Ferramenta de compilação e ecossistema Kotlin."
      ],
      "metadata": {
        "id": "a8JT3v03d75Q"
      }
    },
    {
      "cell_type": "code",
      "execution_count": null,
      "metadata": {
        "id": "evN-3d-j0veF",
        "colab": {
          "base_uri": "https://localhost:8080/"
        },
        "outputId": "1d787f00-6ae0-49cc-ec86-056ec98a0283"
      },
      "outputs": [
        {
          "output_type": "stream",
          "name": "stdout",
          "text": [
            "\n",
            "\u001b[1;33mkotlin 1.6.21 is already installed.\u001b[0m\n"
          ]
        }
      ],
      "source": [
        "!source \"/root/.sdkman/bin/sdkman-init.sh\" && sdk install kotlin 1.6.21"
      ]
    },
    {
      "cell_type": "markdown",
      "metadata": {
        "id": "dTT_Vn9p0J3V"
      },
      "source": [
        "## Baixar e extrair Gradle 7.2\n",
        "###Obtém a distribuição do Gradle para build/testes e descompacta Gradle no ambiente do Colab."
      ]
    },
    {
      "cell_type": "code",
      "execution_count": null,
      "metadata": {
        "id": "668MDNWM9Jsp"
      },
      "outputs": [],
      "source": [
        "!wget https://services.gradle.org/distributions/gradle-7.2-bin.zip --quiet"
      ]
    },
    {
      "cell_type": "code",
      "execution_count": null,
      "metadata": {
        "id": "5i-U6_2P30x5",
        "colab": {
          "base_uri": "https://localhost:8080/"
        },
        "outputId": "9fa6e533-34e4-4f62-b42e-06a18c95cbdd"
      },
      "outputs": [
        {
          "output_type": "stream",
          "name": "stdout",
          "text": [
            "Archive:  gradle-7.2-bin.zip\n",
            "   creating: /content/gradle/gradle-7.2/\n",
            "  inflating: /content/gradle/gradle-7.2/LICENSE  \n",
            "  inflating: /content/gradle/gradle-7.2/NOTICE  \n",
            "  inflating: /content/gradle/gradle-7.2/README  \n",
            "   creating: /content/gradle/gradle-7.2/init.d/\n",
            "  inflating: /content/gradle/gradle-7.2/init.d/readme.txt  \n",
            "   creating: /content/gradle/gradle-7.2/bin/\n",
            "  inflating: /content/gradle/gradle-7.2/bin/gradle  \n",
            "  inflating: /content/gradle/gradle-7.2/bin/gradle.bat  \n",
            "   creating: /content/gradle/gradle-7.2/lib/\n",
            "  inflating: /content/gradle/gradle-7.2/lib/gradle-runtime-api-info-7.2.jar  \n",
            "  inflating: /content/gradle/gradle-7.2/lib/gradle-installation-beacon-7.2.jar  \n",
            "  inflating: /content/gradle/gradle-7.2/lib/gradle-api-metadata-7.2.jar  \n",
            "  inflating: /content/gradle/gradle-7.2/lib/gradle-launcher-7.2.jar  \n",
            "  inflating: /content/gradle/gradle-7.2/lib/gradle-kotlin-dsl-7.2.jar  \n",
            "  inflating: /content/gradle/gradle-7.2/lib/gradle-bootstrap-7.2.jar  \n",
            "  inflating: /content/gradle/gradle-7.2/lib/gradle-build-events-7.2.jar  \n",
            "  inflating: /content/gradle/gradle-7.2/lib/gradle-tooling-api-7.2.jar  \n",
            "  inflating: /content/gradle/gradle-7.2/lib/gradle-core-7.2.jar  \n",
            "  inflating: /content/gradle/gradle-7.2/lib/gradle-file-collections-7.2.jar  \n",
            "  inflating: /content/gradle/gradle-7.2/lib/gradle-jvm-services-7.2.jar  \n",
            "  inflating: /content/gradle/gradle-7.2/lib/gradle-execution-7.2.jar  \n",
            "  inflating: /content/gradle/gradle-7.2/lib/gradle-model-groovy-7.2.jar  \n",
            "  inflating: /content/gradle/gradle-7.2/lib/gradle-model-core-7.2.jar  \n",
            "  inflating: /content/gradle/gradle-7.2/lib/gradle-build-cache-7.2.jar  \n",
            "  inflating: /content/gradle/gradle-7.2/lib/gradle-core-api-7.2.jar  \n",
            "  inflating: /content/gradle/gradle-7.2/lib/gradle-persistent-cache-7.2.jar  \n",
            "  inflating: /content/gradle/gradle-7.2/lib/gradle-worker-processes-7.2.jar  \n",
            "  inflating: /content/gradle/gradle-7.2/lib/gradle-logging-7.2.jar  \n",
            "  inflating: /content/gradle/gradle-7.2/lib/groovy-ant-3.0.8.jar  \n",
            "  inflating: /content/gradle/gradle-7.2/lib/ant-junit-1.10.9.jar  \n",
            "  inflating: /content/gradle/gradle-7.2/lib/ant-1.10.9.jar  \n",
            "  inflating: /content/gradle/gradle-7.2/lib/ant-launcher-1.10.9.jar  \n",
            "  inflating: /content/gradle/gradle-7.2/lib/gradle-process-services-7.2.jar  \n",
            "  inflating: /content/gradle/gradle-7.2/lib/gradle-resources-7.2.jar  \n",
            "  inflating: /content/gradle/gradle-7.2/lib/gradle-messaging-7.2.jar  \n",
            "  inflating: /content/gradle/gradle-7.2/lib/gradle-native-7.2.jar  \n",
            "  inflating: /content/gradle/gradle-7.2/lib/gradle-base-services-groovy-7.2.jar  \n",
            "  inflating: /content/gradle/gradle-7.2/lib/gradle-file-temp-7.2.jar  \n",
            "  inflating: /content/gradle/gradle-7.2/lib/gradle-base-services-7.2.jar  \n",
            "  inflating: /content/gradle/gradle-7.2/lib/gradle-normalization-java-7.2.jar  \n",
            "  inflating: /content/gradle/gradle-7.2/lib/asm-commons-9.1.jar  \n",
            "  inflating: /content/gradle/gradle-7.2/lib/asm-analysis-9.1.jar  \n",
            "  inflating: /content/gradle/gradle-7.2/lib/asm-tree-9.1.jar  \n",
            "  inflating: /content/gradle/gradle-7.2/lib/asm-9.1.jar  \n",
            "  inflating: /content/gradle/gradle-7.2/lib/gradle-build-cache-packaging-7.2.jar  \n",
            "  inflating: /content/gradle/gradle-7.2/lib/commons-compress-1.20.jar  \n",
            "  inflating: /content/gradle/gradle-7.2/lib/commons-io-2.6.jar  \n",
            "  inflating: /content/gradle/gradle-7.2/lib/gradle-build-option-7.2.jar  \n",
            "  inflating: /content/gradle/gradle-7.2/lib/commons-lang-2.6.jar  \n",
            "  inflating: /content/gradle/gradle-7.2/lib/fastutil-8.5.2-min.jar  \n",
            "  inflating: /content/gradle/gradle-7.2/lib/groovy-json-3.0.8.jar  \n",
            "  inflating: /content/gradle/gradle-7.2/lib/groovy-astbuilder-3.0.8.jar  \n",
            "  inflating: /content/gradle/gradle-7.2/lib/groovy-console-3.0.8.jar  \n",
            "  inflating: /content/gradle/gradle-7.2/lib/groovy-dateutil-3.0.8.jar  \n",
            "  inflating: /content/gradle/gradle-7.2/lib/groovy-datetime-3.0.8.jar  \n",
            "  inflating: /content/gradle/gradle-7.2/lib/groovy-groovydoc-3.0.8.jar  \n",
            "  inflating: /content/gradle/gradle-7.2/lib/groovy-nio-3.0.8.jar  \n",
            "  inflating: /content/gradle/gradle-7.2/lib/groovy-sql-3.0.8.jar  \n",
            "  inflating: /content/gradle/gradle-7.2/lib/groovy-docgenerator-3.0.8.jar  \n",
            "  inflating: /content/gradle/gradle-7.2/lib/groovy-templates-3.0.8.jar  \n",
            "  inflating: /content/gradle/gradle-7.2/lib/groovy-test-3.0.8.jar  \n",
            "  inflating: /content/gradle/gradle-7.2/lib/groovy-xml-3.0.8.jar  \n",
            "  inflating: /content/gradle/gradle-7.2/lib/groovy-swing-3.0.8.jar  \n",
            "  inflating: /content/gradle/gradle-7.2/lib/groovy-3.0.8.jar  \n",
            "  inflating: /content/gradle/gradle-7.2/lib/gradle-file-watching-7.2.jar  \n",
            "  inflating: /content/gradle/gradle-7.2/lib/gradle-snapshots-7.2.jar  \n",
            "  inflating: /content/gradle/gradle-7.2/lib/gradle-build-cache-base-7.2.jar  \n",
            "  inflating: /content/gradle/gradle-7.2/lib/gradle-files-7.2.jar  \n",
            "  inflating: /content/gradle/gradle-7.2/lib/gradle-hashing-7.2.jar  \n",
            "  inflating: /content/gradle/gradle-7.2/lib/guava-30.1.1-jre.jar  \n",
            "  inflating: /content/gradle/gradle-7.2/lib/junit-4.13.2.jar  \n",
            "  inflating: /content/gradle/gradle-7.2/lib/hamcrest-core-1.3.jar  \n",
            "  inflating: /content/gradle/gradle-7.2/lib/javax.inject-1.jar  \n",
            "  inflating: /content/gradle/gradle-7.2/lib/jansi-1.18.jar  \n",
            "  inflating: /content/gradle/gradle-7.2/lib/jcl-over-slf4j-1.7.30.jar  \n",
            "  inflating: /content/gradle/gradle-7.2/lib/kotlin-stdlib-jdk8-1.5.21.jar  \n",
            "  inflating: /content/gradle/gradle-7.2/lib/kotlin-compiler-embeddable-1.5.21-patched-for-gradle-7.2.jar  \n",
            "  inflating: /content/gradle/gradle-7.2/lib/kotlin-stdlib-jdk7-1.5.21.jar  \n",
            "  inflating: /content/gradle/gradle-7.2/lib/kotlin-reflect-1.5.21.jar  \n",
            "  inflating: /content/gradle/gradle-7.2/lib/kotlin-stdlib-1.5.21.jar  \n",
            "  inflating: /content/gradle/gradle-7.2/lib/annotations-20.1.0.jar  \n",
            "  inflating: /content/gradle/gradle-7.2/lib/gradle-problems-7.2.jar  \n",
            "  inflating: /content/gradle/gradle-7.2/lib/gradle-kotlin-dsl-tooling-models-7.2.jar  \n",
            "  inflating: /content/gradle/gradle-7.2/lib/gradle-functional-7.2.jar  \n",
            "  inflating: /content/gradle/gradle-7.2/lib/gradle-build-operations-7.2.jar  \n",
            "  inflating: /content/gradle/gradle-7.2/lib/gradle-base-annotations-7.2.jar  \n",
            "  inflating: /content/gradle/gradle-7.2/lib/tomlj-1.0.0.jar  \n",
            "  inflating: /content/gradle/gradle-7.2/lib/jsr305-3.0.2.jar  \n",
            "  inflating: /content/gradle/gradle-7.2/lib/jul-to-slf4j-1.7.30.jar  \n",
            "  inflating: /content/gradle/gradle-7.2/lib/kryo-2.24.0.jar  \n",
            "  inflating: /content/gradle/gradle-7.2/lib/log4j-over-slf4j-1.7.30.jar  \n",
            "  inflating: /content/gradle/gradle-7.2/lib/minlog-1.2.jar  \n",
            "  inflating: /content/gradle/gradle-7.2/lib/native-platform-0.22-milestone-21.jar  \n",
            "  inflating: /content/gradle/gradle-7.2/lib/file-events-0.22-milestone-21.jar  \n",
            "  inflating: /content/gradle/gradle-7.2/lib/objenesis-2.6.jar  \n",
            "  inflating: /content/gradle/gradle-7.2/lib/slf4j-api-1.7.30.jar  \n",
            "  inflating: /content/gradle/gradle-7.2/lib/trove4j-1.0.20181211.jar  \n",
            "  inflating: /content/gradle/gradle-7.2/lib/xml-apis-1.4.01.jar  \n",
            "  inflating: /content/gradle/gradle-7.2/lib/javaparser-core-3.17.0.jar  \n",
            "  inflating: /content/gradle/gradle-7.2/lib/gradle-wrapper-7.2.jar  \n",
            "  inflating: /content/gradle/gradle-7.2/lib/gradle-cli-7.2.jar  \n",
            "  inflating: /content/gradle/gradle-7.2/lib/kotlin-script-runtime-1.5.21.jar  \n",
            "  inflating: /content/gradle/gradle-7.2/lib/kotlin-daemon-embeddable-1.5.21.jar  \n",
            "  inflating: /content/gradle/gradle-7.2/lib/kotlin-scripting-common-1.5.21.jar  \n",
            "  inflating: /content/gradle/gradle-7.2/lib/kotlin-scripting-jvm-1.5.21.jar  \n",
            "  inflating: /content/gradle/gradle-7.2/lib/kotlin-scripting-jvm-host-1.5.21.jar  \n",
            "  inflating: /content/gradle/gradle-7.2/lib/kotlin-scripting-compiler-embeddable-1.5.21.jar  \n",
            "  inflating: /content/gradle/gradle-7.2/lib/kotlin-scripting-compiler-impl-embeddable-1.5.21.jar  \n",
            "  inflating: /content/gradle/gradle-7.2/lib/kotlin-sam-with-receiver-compiler-plugin-1.5.21.jar  \n",
            "  inflating: /content/gradle/gradle-7.2/lib/kotlinx-metadata-jvm-0.3.0.jar  \n",
            "  inflating: /content/gradle/gradle-7.2/lib/failureaccess-1.0.1.jar  \n",
            "  inflating: /content/gradle/gradle-7.2/lib/native-platform-freebsd-amd64-libcpp-0.22-milestone-21.jar  \n",
            "  inflating: /content/gradle/gradle-7.2/lib/native-platform-linux-aarch64-0.22-milestone-21.jar  \n",
            "  inflating: /content/gradle/gradle-7.2/lib/native-platform-linux-amd64-0.22-milestone-21.jar  \n",
            "  inflating: /content/gradle/gradle-7.2/lib/native-platform-osx-aarch64-0.22-milestone-21.jar  \n",
            "  inflating: /content/gradle/gradle-7.2/lib/native-platform-osx-amd64-0.22-milestone-21.jar  \n",
            "  inflating: /content/gradle/gradle-7.2/lib/native-platform-windows-amd64-0.22-milestone-21.jar  \n",
            "  inflating: /content/gradle/gradle-7.2/lib/native-platform-windows-amd64-min-0.22-milestone-21.jar  \n",
            "  inflating: /content/gradle/gradle-7.2/lib/native-platform-windows-i386-0.22-milestone-21.jar  \n",
            "  inflating: /content/gradle/gradle-7.2/lib/native-platform-windows-i386-min-0.22-milestone-21.jar  \n",
            "  inflating: /content/gradle/gradle-7.2/lib/native-platform-linux-aarch64-ncurses5-0.22-milestone-21.jar  \n",
            "  inflating: /content/gradle/gradle-7.2/lib/native-platform-linux-aarch64-ncurses6-0.22-milestone-21.jar  \n",
            "  inflating: /content/gradle/gradle-7.2/lib/native-platform-linux-amd64-ncurses5-0.22-milestone-21.jar  \n",
            "  inflating: /content/gradle/gradle-7.2/lib/native-platform-linux-amd64-ncurses6-0.22-milestone-21.jar  \n",
            "  inflating: /content/gradle/gradle-7.2/lib/file-events-linux-aarch64-0.22-milestone-21.jar  \n",
            "  inflating: /content/gradle/gradle-7.2/lib/file-events-linux-amd64-0.22-milestone-21.jar  \n",
            "  inflating: /content/gradle/gradle-7.2/lib/file-events-osx-aarch64-0.22-milestone-21.jar  \n",
            "  inflating: /content/gradle/gradle-7.2/lib/file-events-osx-amd64-0.22-milestone-21.jar  \n",
            "  inflating: /content/gradle/gradle-7.2/lib/file-events-windows-amd64-0.22-milestone-21.jar  \n",
            "  inflating: /content/gradle/gradle-7.2/lib/file-events-windows-amd64-min-0.22-milestone-21.jar  \n",
            "  inflating: /content/gradle/gradle-7.2/lib/file-events-windows-i386-0.22-milestone-21.jar  \n",
            "  inflating: /content/gradle/gradle-7.2/lib/file-events-windows-i386-min-0.22-milestone-21.jar  \n",
            "  inflating: /content/gradle/gradle-7.2/lib/ant-antlr-1.10.9.jar  \n",
            "  inflating: /content/gradle/gradle-7.2/lib/antlr4-runtime-4.7.2.jar  \n",
            "  inflating: /content/gradle/gradle-7.2/lib/kotlin-stdlib-common-1.5.21.jar  \n",
            "  inflating: /content/gradle/gradle-7.2/lib/qdox-1.12.1.jar  \n",
            "   creating: /content/gradle/gradle-7.2/lib/plugins/\n",
            "  inflating: /content/gradle/gradle-7.2/lib/plugins/gradle-kotlin-dsl-provider-plugins-7.2.jar  \n",
            "  inflating: /content/gradle/gradle-7.2/lib/plugins/gradle-plugin-development-7.2.jar  \n",
            "  inflating: /content/gradle/gradle-7.2/lib/plugins/gradle-build-init-7.2.jar  \n",
            "  inflating: /content/gradle/gradle-7.2/lib/plugins/gradle-build-profile-7.2.jar  \n",
            "  inflating: /content/gradle/gradle-7.2/lib/plugins/gradle-antlr-7.2.jar  \n",
            "  inflating: /content/gradle/gradle-7.2/lib/plugins/gradle-enterprise-7.2.jar  \n",
            "  inflating: /content/gradle/gradle-7.2/lib/plugins/gradle-tooling-api-builders-7.2.jar  \n",
            "  inflating: /content/gradle/gradle-7.2/lib/plugins/gradle-configuration-cache-7.2.jar  \n",
            "  inflating: /content/gradle/gradle-7.2/lib/plugins/gradle-kotlin-dsl-tooling-builders-7.2.jar  \n",
            "  inflating: /content/gradle/gradle-7.2/lib/plugins/gradle-code-quality-7.2.jar  \n",
            "  inflating: /content/gradle/gradle-7.2/lib/plugins/gradle-signing-7.2.jar  \n",
            "  inflating: /content/gradle/gradle-7.2/lib/plugins/gradle-tooling-native-7.2.jar  \n",
            "  inflating: /content/gradle/gradle-7.2/lib/plugins/gradle-ide-native-7.2.jar  \n",
            "  inflating: /content/gradle/gradle-7.2/lib/plugins/gradle-ide-7.2.jar  \n",
            "  inflating: /content/gradle/gradle-7.2/lib/plugins/gradle-scala-7.2.jar  \n",
            "  inflating: /content/gradle/gradle-7.2/lib/plugins/gradle-ear-7.2.jar  \n",
            "  inflating: /content/gradle/gradle-7.2/lib/plugins/gradle-jacoco-7.2.jar  \n",
            "  inflating: /content/gradle/gradle-7.2/lib/plugins/gradle-testing-native-7.2.jar  \n",
            "  inflating: /content/gradle/gradle-7.2/lib/plugins/gradle-language-native-7.2.jar  \n",
            "  inflating: /content/gradle/gradle-7.2/lib/plugins/gradle-maven-7.2.jar  \n",
            "  inflating: /content/gradle/gradle-7.2/lib/plugins/gradle-ivy-7.2.jar  \n",
            "  inflating: /content/gradle/gradle-7.2/lib/plugins/gradle-plugins-7.2.jar  \n",
            "  inflating: /content/gradle/gradle-7.2/lib/plugins/gradle-testing-junit-platform-7.2.jar  \n",
            "  inflating: /content/gradle/gradle-7.2/lib/plugins/gradle-testing-jvm-7.2.jar  \n",
            "  inflating: /content/gradle/gradle-7.2/lib/plugins/gradle-language-groovy-7.2.jar  \n",
            "  inflating: /content/gradle/gradle-7.2/lib/plugins/gradle-language-java-7.2.jar  \n",
            "  inflating: /content/gradle/gradle-7.2/lib/plugins/gradle-language-jvm-7.2.jar  \n",
            "  inflating: /content/gradle/gradle-7.2/lib/plugins/gradle-platform-jvm-7.2.jar  \n",
            "  inflating: /content/gradle/gradle-7.2/lib/plugins/gradle-composite-builds-7.2.jar  \n",
            "  inflating: /content/gradle/gradle-7.2/lib/plugins/gradle-plugin-use-7.2.jar  \n",
            "  inflating: /content/gradle/gradle-7.2/lib/plugins/gradle-publish-7.2.jar  \n",
            "  inflating: /content/gradle/gradle-7.2/lib/plugins/gradle-testing-base-7.2.jar  \n",
            "  inflating: /content/gradle/gradle-7.2/lib/plugins/gradle-platform-native-7.2.jar  \n",
            "  inflating: /content/gradle/gradle-7.2/lib/plugins/gradle-diagnostics-7.2.jar  \n",
            "  inflating: /content/gradle/gradle-7.2/lib/plugins/gradle-platform-base-7.2.jar  \n",
            "  inflating: /content/gradle/gradle-7.2/lib/plugins/gradle-version-control-7.2.jar  \n",
            "  inflating: /content/gradle/gradle-7.2/lib/plugins/gradle-dependency-management-7.2.jar  \n",
            "  inflating: /content/gradle/gradle-7.2/lib/plugins/gradle-reporting-7.2.jar  \n",
            "  inflating: /content/gradle/gradle-7.2/lib/plugins/gradle-workers-7.2.jar  \n",
            "  inflating: /content/gradle/gradle-7.2/lib/plugins/gradle-test-kit-7.2.jar  \n",
            "  inflating: /content/gradle/gradle-7.2/lib/plugins/gradle-resources-s3-7.2.jar  \n",
            "  inflating: /content/gradle/gradle-7.2/lib/plugins/gradle-resources-gcs-7.2.jar  \n",
            "  inflating: /content/gradle/gradle-7.2/lib/plugins/gradle-build-cache-http-7.2.jar  \n",
            "  inflating: /content/gradle/gradle-7.2/lib/plugins/gradle-security-7.2.jar  \n",
            "  inflating: /content/gradle/gradle-7.2/lib/plugins/gradle-resources-http-7.2.jar  \n",
            "  inflating: /content/gradle/gradle-7.2/lib/plugins/gradle-resources-sftp-7.2.jar  \n",
            "  inflating: /content/gradle/gradle-7.2/lib/plugins/aws-java-sdk-s3-1.11.948.jar  \n",
            "  inflating: /content/gradle/gradle-7.2/lib/plugins/aws-java-sdk-kms-1.11.948.jar  \n",
            "  inflating: /content/gradle/gradle-7.2/lib/plugins/aws-java-sdk-sts-1.11.948.jar  \n",
            "  inflating: /content/gradle/gradle-7.2/lib/plugins/aws-java-sdk-core-1.11.948.jar  \n",
            "  inflating: /content/gradle/gradle-7.2/lib/plugins/org.eclipse.jgit-5.7.0.202003110725-r.jar  \n",
            "  inflating: /content/gradle/gradle-7.2/lib/plugins/bcpg-jdk15on-1.68.jar  \n",
            "  inflating: /content/gradle/gradle-7.2/lib/plugins/bcpkix-jdk15on-1.68.jar  \n",
            "  inflating: /content/gradle/gradle-7.2/lib/plugins/bcprov-jdk15on-1.68.jar  \n",
            "  inflating: /content/gradle/gradle-7.2/lib/plugins/testng-6.3.1.jar  \n",
            "  inflating: /content/gradle/gradle-7.2/lib/plugins/bsh-2.0b6.jar  \n",
            "  inflating: /content/gradle/gradle-7.2/lib/plugins/google-api-services-storage-v1-rev171-1.25.0.jar  \n",
            "  inflating: /content/gradle/gradle-7.2/lib/plugins/google-api-client-1.25.0.jar  \n",
            "  inflating: /content/gradle/gradle-7.2/lib/plugins/google-oauth-client-1.25.0.jar  \n",
            "  inflating: /content/gradle/gradle-7.2/lib/plugins/google-http-client-jackson2-1.25.0.jar  \n",
            "  inflating: /content/gradle/gradle-7.2/lib/plugins/google-http-client-1.25.0.jar  \n",
            "  inflating: /content/gradle/gradle-7.2/lib/plugins/httpclient-4.5.13.jar  \n",
            "  inflating: /content/gradle/gradle-7.2/lib/plugins/commons-codec-1.15.jar  \n",
            "  inflating: /content/gradle/gradle-7.2/lib/plugins/gson-2.8.6.jar  \n",
            "  inflating: /content/gradle/gradle-7.2/lib/plugins/jmespath-java-1.11.948.jar  \n",
            "  inflating: /content/gradle/gradle-7.2/lib/plugins/jackson-databind-2.12.1.jar  \n",
            "  inflating: /content/gradle/gradle-7.2/lib/plugins/jackson-core-2.12.1.jar  \n",
            "  inflating: /content/gradle/gradle-7.2/lib/plugins/jackson-annotations-2.12.1.jar  \n",
            "  inflating: /content/gradle/gradle-7.2/lib/plugins/httpcore-4.4.14.jar  \n",
            "  inflating: /content/gradle/gradle-7.2/lib/plugins/maven-settings-builder-3.6.3.jar  \n",
            "  inflating: /content/gradle/gradle-7.2/lib/plugins/ivy-2.3.0.jar  \n",
            "  inflating: /content/gradle/gradle-7.2/lib/plugins/jaxb-impl-3.0.0.jar  \n",
            "  inflating: /content/gradle/gradle-7.2/lib/plugins/jaxb-core-3.0.0.jar  \n",
            "  inflating: /content/gradle/gradle-7.2/lib/plugins/jakarta.xml.bind-api-3.0.0.jar  \n",
            "  inflating: /content/gradle/gradle-7.2/lib/plugins/jakarta.activation-2.0.0.jar  \n",
            "  inflating: /content/gradle/gradle-7.2/lib/plugins/jatl-0.2.3.jar  \n",
            "  inflating: /content/gradle/gradle-7.2/lib/plugins/jcifs-1.3.17.jar  \n",
            "  inflating: /content/gradle/gradle-7.2/lib/plugins/jcommander-1.78.jar  \n",
            "  inflating: /content/gradle/gradle-7.2/lib/plugins/joda-time-2.10.4.jar  \n",
            "  inflating: /content/gradle/gradle-7.2/lib/plugins/jsch-0.1.55.jar  \n",
            "  inflating: /content/gradle/gradle-7.2/lib/plugins/junit-platform-engine-1.7.2.jar  \n",
            "  inflating: /content/gradle/gradle-7.2/lib/plugins/junit-platform-commons-1.7.2.jar  \n",
            "  inflating: /content/gradle/gradle-7.2/lib/plugins/junit-platform-launcher-1.7.2.jar  \n",
            "  inflating: /content/gradle/gradle-7.2/lib/plugins/jzlib-1.1.3.jar  \n",
            "  inflating: /content/gradle/gradle-7.2/lib/plugins/maven-builder-support-3.6.3.jar  \n",
            "  inflating: /content/gradle/gradle-7.2/lib/plugins/maven-model-3.6.3.jar  \n",
            "  inflating: /content/gradle/gradle-7.2/lib/plugins/maven-repository-metadata-3.6.3.jar  \n",
            "  inflating: /content/gradle/gradle-7.2/lib/plugins/maven-settings-3.6.3.jar  \n",
            "  inflating: /content/gradle/gradle-7.2/lib/plugins/nekohtml-1.9.22.jar  \n",
            "  inflating: /content/gradle/gradle-7.2/lib/plugins/plexus-sec-dispatcher-1.4.jar  \n",
            "  inflating: /content/gradle/gradle-7.2/lib/plugins/plexus-cipher-1.7.jar  \n",
            "  inflating: /content/gradle/gradle-7.2/lib/plugins/plexus-interpolation-1.26.jar  \n",
            "  inflating: /content/gradle/gradle-7.2/lib/plugins/plexus-utils-3.3.0.jar  \n",
            "  inflating: /content/gradle/gradle-7.2/lib/plugins/dd-plist-1.21.jar  \n",
            "  inflating: /content/gradle/gradle-7.2/lib/plugins/snakeyaml-1.28.jar  \n",
            "  inflating: /content/gradle/gradle-7.2/lib/plugins/xercesImpl-2.12.0.jar  \n",
            "  inflating: /content/gradle/gradle-7.2/lib/plugins/gradle-java-compiler-plugin-7.2.jar  \n",
            "  inflating: /content/gradle/gradle-7.2/lib/plugins/ion-java-1.0.2.jar  \n",
            "  inflating: /content/gradle/gradle-7.2/lib/plugins/apiguardian-api-1.1.0.jar  \n",
            "  inflating: /content/gradle/gradle-7.2/lib/plugins/opentest4j-1.2.0.jar  \n"
          ]
        }
      ],
      "source": [
        "!unzip -d /content/gradle gradle-7.2-bin.zip"
      ]
    },
    {
      "cell_type": "markdown",
      "source": [
        "## Preparar build.gradle para execução\n",
        "### Ajustes de permissão/conteúdo para o build funcionar."
      ],
      "metadata": {
        "id": "9INsVYJio5MX"
      }
    },
    {
      "cell_type": "code",
      "execution_count": null,
      "metadata": {
        "id": "kyYzxhHmE9ox"
      },
      "outputs": [],
      "source": [
        "caminho_do_arquivo = \"/content/build.gradle\"\n",
        "\n",
        "dependencias = '''plugins {\n",
        "    id 'org.jetbrains.kotlin.jvm' version '1.6.21'\n",
        "    id 'application'\n",
        "}\n",
        "\n",
        "repositories {\n",
        "    mavenCentral()\n",
        "}\n",
        "\n",
        "dependencies {\n",
        "    testImplementation 'org.jetbrains.kotlin:kotlin-test'\n",
        "    testImplementation(\"org.junit.jupiter:junit-jupiter:5.8.1\")\n",
        "\n",
        "}\n",
        "\n",
        "test {\n",
        "    useJUnitPlatform()\n",
        "}\n",
        "\n",
        "application {\n",
        "    mainClass.set(\"com.example.MainKt\")\n",
        "}\n",
        "'''\n",
        "\n",
        "# Abre o arquivo no modo de escrita ('w') e escreve em no arquivo\n",
        "with open(caminho_do_arquivo, \"w\") as arquivo:\n",
        "        arquivo.writelines(dependencias)"
      ]
    },
    {
      "cell_type": "code",
      "execution_count": null,
      "metadata": {
        "id": "cwyxgBIUAHE1"
      },
      "outputs": [],
      "source": [
        "!chmod +x /content/build.gradle"
      ]
    },
    {
      "cell_type": "code",
      "execution_count": null,
      "metadata": {
        "id": "l-ER3BIurcw6"
      },
      "outputs": [],
      "source": [
        "os.environ['PATH'] += \":/gradle/gradle-7.2/bin\""
      ]
    },
    {
      "cell_type": "code",
      "execution_count": null,
      "metadata": {
        "id": "GKWpDcK8oCqP",
        "colab": {
          "base_uri": "https://localhost:8080/"
        },
        "outputId": "ae577a61-56d6-4c5c-974d-c76b0b60d39c"
      },
      "outputs": [
        {
          "output_type": "stream",
          "name": "stdout",
          "text": [
            "\n",
            "\n",
            "\u001b[2A\u001b[1m<\u001b[0;1m-------------> 0% INITIALIZING [14ms]\u001b[m\u001b[38D\u001b[1B\u001b[1m> Evaluating settings\u001b[m\u001b[21D\u001b[1B\u001b[2A\u001b[1m<\u001b[0;1m-------------> 0% CONFIGURING [114ms]\u001b[m\u001b[38D\u001b[1B\u001b[1m> root project\u001b[m\u001b[0K\u001b[14D\u001b[1B\u001b[2A\u001b[1m<\u001b[0;1m-------------> 0% EXECUTING [214ms]\u001b[m\u001b[0K\u001b[36D\u001b[1B\u001b[1m> :wrapper\u001b[m\u001b[0K\u001b[10D\u001b[1B\u001b[2A\u001b[0K\n",
            "\u001b[32;1mBUILD SUCCESSFUL\u001b[0;39m in 2s\u001b[0K\n",
            "1 actionable task: 1 executed\n",
            "\u001b[0K\n",
            "\u001b[0K\n",
            "\u001b[2A\u001b[1m<\u001b[0;32;1m=============\u001b[0;39;1m> 100% EXECUTING [314ms]\u001b[m\u001b[38D\u001b[1B> IDLE\u001b[6D\u001b[1B\u001b[2A\u001b[1m<\u001b[0;1m-------------> 0% WAITING\u001b[m\u001b[0K\u001b[26D\u001b[2B\u001b[2A\u001b[2K\u001b[1B\u001b[2K\u001b[1A\u001b[m"
          ]
        }
      ],
      "source": [
        "!/content/gradle/gradle-7.2/bin/gradle wrapper"
      ]
    },
    {
      "cell_type": "markdown",
      "source": [
        "## Executar testes JUnit com Gradle\n",
        "### Roda a suíte de testes gerada para comprovar violações."
      ],
      "metadata": {
        "id": "KmAFn5vzpMNl"
      }
    },
    {
      "cell_type": "code",
      "execution_count": null,
      "metadata": {
        "id": "PFoagt_lxiJo",
        "colab": {
          "base_uri": "https://localhost:8080/"
        },
        "outputId": "25cf259d-44c2-4b89-839a-2612a942793a"
      },
      "outputs": [
        {
          "output_type": "stream",
          "name": "stdout",
          "text": [
            "\n",
            "\n",
            "\u001b[1A\u001b[1m> Connecting to Daemon\u001b[m\u001b[22D\u001b[1B\u001b[2A\u001b[1m<\u001b[0;1m-------------> 0% CONFIGURING [58ms]\u001b[m\u001b[37D\u001b[1B\u001b[1m> root project > Resolve dependencies of :classpath\u001b[m\u001b[51D\u001b[1B\u001b[2A\u001b[1m<\u001b[0;1m-------------> 0% CONFIGURING [158ms]\u001b[m\u001b[38D\u001b[1B\u001b[1m> root project\u001b[m\u001b[0K\u001b[14D\u001b[1B\u001b[2A\u001b[1m<\u001b[0;1m-------------> 0% EXECUTING [259ms]\u001b[m\u001b[0K\u001b[36D\u001b[1B\u001b[1m> :compileKotlin\u001b[m\u001b[16D\u001b[1B\u001b[2A\u001b[1m<\u001b[0;32;1m==\u001b[0;39;1m-----------> 22% EXECUTING [358ms]\u001b[m\u001b[37D\u001b[2B\u001b[2A\u001b[1m<\u001b[0;32;1m==\u001b[0;39;1m-----------> 22% EXECUTING [458ms]\u001b[m\u001b[37D\u001b[2B\u001b[2A\u001b[1m<\u001b[0;32;1m==\u001b[0;39;1m-----------> 22% EXECUTING [564ms]\u001b[m\u001b[37D\u001b[2B\u001b[2A\u001b[1m<\u001b[0;32;1m==\u001b[0;39;1m-----------> 22% EXECUTING [658ms]\u001b[m\u001b[37D\u001b[2B\u001b[2A\u001b[1m<\u001b[0;32;1m==\u001b[0;39;1m-----------> 22% EXECUTING [758ms]\u001b[m\u001b[37D\u001b[2B\u001b[2A\u001b[1m<\u001b[0;32;1m==\u001b[0;39;1m-----------> 22% EXECUTING [858ms]\u001b[m\u001b[37D\u001b[2B\u001b[2A\u001b[1m<\u001b[0;32;1m==\u001b[0;39;1m-----------> 22% EXECUTING [958ms]\u001b[m\u001b[37D\u001b[2B\u001b[2A\u001b[1m<\u001b[0;32;1m==\u001b[0;39;1m-----------> 22% EXECUTING [1s]\u001b[m\u001b[0K\u001b[34D\u001b[2B\u001b[2A\u001b[0K\n",
            "\u001b[32;1mBUILD SUCCESSFUL\u001b[0;39m in 3s\u001b[0K\n",
            "1 actionable task: 1 executed\n",
            "\u001b[0K\n",
            "\u001b[0K\n",
            "\u001b[2A\u001b[1m<\u001b[0;1m-------------> 0% WAITING\u001b[m\u001b[26D\u001b[1B\u001b[1m> :compileKotlin\u001b[m\u001b[16D\u001b[1B\u001b[2A\u001b[2K\u001b[1B\u001b[2K\u001b[1A\u001b[m"
          ]
        }
      ],
      "source": [
        "!./gradlew test"
      ]
    },
    {
      "cell_type": "markdown",
      "source": [
        "# Trecho de código para medir desempenho\n",
        "## Bloco usado apenas para medir tempo."
      ],
      "metadata": {
        "id": "jNch_bhYpt4U"
      }
    },
    {
      "cell_type": "code",
      "execution_count": null,
      "metadata": {
        "id": "LawSwPmbEFxR",
        "colab": {
          "base_uri": "https://localhost:8080/"
        },
        "outputId": "baad6d2f-a57d-4a1e-92a4-b0e7db5c2d98"
      },
      "outputs": [
        {
          "output_type": "stream",
          "name": "stdout",
          "text": [
            "Tempo de execução: 25.180203 segundos\n"
          ]
        }
      ],
      "source": [
        "# Código a ser medido\n",
        "for i in range(10**6):\n",
        "    pass  # Simulando uma operação\n",
        "\n",
        "# Finaliza a contagem do tempo\n",
        "end_time = time.time()\n",
        "\n",
        "# Calcula o tempo decorrido\n",
        "execution_time = end_time - start_time\n",
        "print(f\"Tempo de execução: {execution_time:.6f} segundos\")"
      ]
    }
  ],
  "metadata": {
    "colab": {
      "provenance": []
    },
    "kernelspec": {
      "display_name": "Python 3",
      "name": "python3"
    },
    "language_info": {
      "name": "python"
    }
  },
  "nbformat": 4,
  "nbformat_minor": 0
}